{
 "cells": [
  {
   "cell_type": "code",
   "execution_count": 9,
   "metadata": {},
   "outputs": [],
   "source": [
    "#import packages \n",
    "import sklearn\n",
    "import pandas as pd\n",
    "import numpy as np\n",
    "import os\n",
    "import matplotlib.pyplot as plt"
   ]
  },
  {
   "cell_type": "code",
   "execution_count": 10,
   "metadata": {},
   "outputs": [],
   "source": [
    "#Load dataset\n",
    "\n",
    "DIRECTORY_WHERE_THIS_FILE_IS = os.path.dirname(os.path.abspath(\"ml_stacking.md\"))\n",
    "DATA_PATH = os.path.join(DIRECTORY_WHERE_THIS_FILE_IS, \"data/prepared_dataset.csv\")\n",
    "df1 = pd.read_csv(DATA_PATH)"
   ]
  },
  {
   "cell_type": "code",
   "execution_count": 11,
   "metadata": {},
   "outputs": [
    {
     "name": "stdout",
     "output_type": "stream",
     "text": [
      "(26884, 18)\n",
      "   Unnamed: 0 provincia_iso       fecha  num_casos  num_casos_prueba_pcr  \\\n",
      "0           0             A  2020-02-01          0                     0   \n",
      "1           1            AB  2020-02-01          0                     0   \n",
      "2           2            AL  2020-02-01          0                     0   \n",
      "3           3            AV  2020-02-01          0                     0   \n",
      "4           4             B  2020-02-01          7                     6   \n",
      "\n",
      "   num_casos_prueba_test_ac  num_casos_prueba_ag  num_casos_prueba_elisa  \\\n",
      "0                         0                    0                       0   \n",
      "1                         0                    0                       0   \n",
      "2                         0                    0                       0   \n",
      "3                         0                    0                       0   \n",
      "4                         0                    0                       0   \n",
      "\n",
      "   num_casos_prueba_desconocida  dayyear  year  \\\n",
      "0                             0       32  2020   \n",
      "1                             0       32  2020   \n",
      "2                             0       32  2020   \n",
      "3                             0       32  2020   \n",
      "4                             1       32  2020   \n",
      "\n",
      "   people_fully_vaccinated_per_hundred  France_cases_mil  Portugal_cases_mil  \\\n",
      "0                                  0.0             0.089                 0.0   \n",
      "1                                  0.0             0.089                 0.0   \n",
      "2                                  0.0             0.089                 0.0   \n",
      "3                                  0.0             0.089                 0.0   \n",
      "4                                  0.0             0.089                 0.0   \n",
      "\n",
      "         date   provincia  poblacion Communidad  \n",
      "0  2020-02-01    Alicante  1879888.0         VC  \n",
      "1  2020-02-01    Albacete   388270.0         CM  \n",
      "2  2020-02-01       Araba   333940.0         AN  \n",
      "3  2020-02-01       Ávila   157664.0         CL  \n",
      "4  2020-02-01  Barcelona   5743402.0         CT  \n"
     ]
    }
   ],
   "source": [
    "print(df1.shape)\n",
    "print(df1.head())\n",
    "\n",
    "#drop the index \n",
    "df1 = df1.drop(\"Unnamed: 0\", axis = 1)"
   ]
  },
  {
   "cell_type": "code",
   "execution_count": 12,
   "metadata": {},
   "outputs": [
    {
     "name": "stdout",
     "output_type": "stream",
     "text": [
      "Number of provinces: 52\n",
      "Approximate number of days by region: 517\n",
      "\n",
      "263670\n",
      "          num_casos  num_casos_prueba_pcr  num_casos_prueba_test_ac  \\\n",
      "count  26884.000000          26884.000000              26884.000000   \n",
      "mean     141.262238            108.228649                  0.177317   \n",
      "std      362.445501            284.347770                  1.224824   \n",
      "min        0.000000              0.000000                  0.000000   \n",
      "25%        8.000000              6.000000                  0.000000   \n",
      "50%       44.000000             33.000000                  0.000000   \n",
      "75%      125.000000             99.000000                  0.000000   \n",
      "max     7017.000000           6602.000000                 32.000000   \n",
      "\n",
      "       num_casos_prueba_ag  num_casos_prueba_elisa  \\\n",
      "count         26884.000000            26884.000000   \n",
      "mean             30.294971                0.565429   \n",
      "std             121.580300                4.996305   \n",
      "min               0.000000                0.000000   \n",
      "25%               0.000000                0.000000   \n",
      "50%               1.000000                0.000000   \n",
      "75%              17.000000                0.000000   \n",
      "max            3251.000000              115.000000   \n",
      "\n",
      "       num_casos_prueba_desconocida       dayyear          year  \\\n",
      "count                  26884.000000  26884.000000  26884.000000   \n",
      "mean                       1.995871    161.156673   2020.352031   \n",
      "std                       21.970609     98.325479      0.477612   \n",
      "min                        0.000000      1.000000   2020.000000   \n",
      "25%                        0.000000     81.000000   2020.000000   \n",
      "50%                        0.000000    145.000000   2020.000000   \n",
      "75%                        0.000000    237.000000   2021.000000   \n",
      "max                      702.000000    366.000000   2021.000000   \n",
      "\n",
      "       people_fully_vaccinated_per_hundred  France_cases_mil  \\\n",
      "count                         26884.000000      26884.000000   \n",
      "mean                              2.533443      29955.486292   \n",
      "std                               6.894055      31316.453518   \n",
      "min                               0.000000          0.089000   \n",
      "25%                               0.000000       2874.153000   \n",
      "50%                               0.000000      13004.022000   \n",
      "75%                               0.000000      54309.105000   \n",
      "max                              39.500000      88488.363000   \n",
      "\n",
      "       Portugal_cases_mil     poblacion  \n",
      "count        26884.000000  2.688400e+04  \n",
      "mean         32321.554729  9.125153e+05  \n",
      "std          34236.910777  1.195471e+06  \n",
      "min              0.000000  8.420200e+04  \n",
      "25%           3462.490000  3.259380e+05  \n",
      "50%           9405.193000  6.084855e+05  \n",
      "75%          78267.817000  1.025310e+06  \n",
      "max          86499.102000  6.779888e+06  \n"
     ]
    }
   ],
   "source": [
    "#some insights\n",
    "print(\"Number of provinces: {}\".format(df1['provincia'].nunique()))\n",
    "print(\"Approximate number of days by region: {}\".format(df1['fecha'].nunique()))\n",
    "#print(\"Number of distinct age groups: {}\".format(df1['grupo_edad'].nunique()))\n",
    "print('')\n",
    "print(517*51*10)\n",
    "print(df1.describe())"
   ]
  },
  {
   "cell_type": "markdown",
   "metadata": {},
   "source": [
    "## Machine learning"
   ]
  },
  {
   "cell_type": "markdown",
   "metadata": {},
   "source": [
    "### Preprocessing"
   ]
  },
  {
   "cell_type": "code",
   "execution_count": 13,
   "metadata": {},
   "outputs": [
    {
     "data": {
      "text/plain": [
       "Index(['provincia_iso', 'fecha', 'num_casos', 'num_casos_prueba_pcr',\n",
       "       'num_casos_prueba_test_ac', 'num_casos_prueba_ag',\n",
       "       'num_casos_prueba_elisa', 'num_casos_prueba_desconocida', 'dayyear',\n",
       "       'year', 'people_fully_vaccinated_per_hundred', 'France_cases_mil',\n",
       "       'Portugal_cases_mil', 'date', 'provincia', 'poblacion', 'Communidad'],\n",
       "      dtype='object')"
      ]
     },
     "execution_count": 13,
     "metadata": {},
     "output_type": "execute_result"
    }
   ],
   "source": [
    "from sklearn.model_selection import train_test_split\n",
    "from sklearn.preprocessing import StandardScaler\n",
    "from sklearn.decomposition import PCA\n",
    "df1.columns"
   ]
  },
  {
   "cell_type": "code",
   "execution_count": 14,
   "metadata": {},
   "outputs": [],
   "source": [
    "#remove correlated features\n",
    "def get_correlation(data, threshold):\n",
    "    corr_col = set()\n",
    "    corrmat = data.corr()\n",
    "    for i in range(len(corrmat.columns)):\n",
    "        for j in range(i):\n",
    "            if abs(corrmat.iloc[i, j]) > threshold:\n",
    "                colname = corrmat.columns[i]\n",
    "                corr_col.add(colname)\n",
    "    return corr_col"
   ]
  },
  {
   "cell_type": "code",
   "execution_count": 39,
   "metadata": {},
   "outputs": [],
   "source": [
    "#divide by countries ! -> no dummies \n",
    "def Prepare_dataset(df = df1,target = \"num_casos\",test = 0.2,dimension_reduction = False,scale = True, dummies = 'e'):\n",
    "    \n",
    "    #drop the province name and date\n",
    "    df = df.drop(labels=['provincia','fecha','date','poblacion'], axis = 1)\n",
    "    \n",
    "    #scale ( not the dummies or target)\n",
    "    col = ['provincia_iso','Communidad','grupo_edad','sexo','year','dayyear',target]\n",
    "\n",
    "  \n",
    "    if scale == True:\n",
    "        col_s = ['num_casos', 'num_casos_prueba_pcr',\n",
    "       'num_casos_prueba_test_ac', 'num_casos_prueba_ag',\n",
    "       'num_casos_prueba_elisa', 'num_casos_prueba_desconocida', 'people_fully_vaccinated_per_hundred', 'France_cases_mil',\n",
    "       'Portugal_cases_mil']\n",
    "        S = pd.DataFrame(df.loc[:,col_s])\n",
    "        scaler = StandardScaler().fit(S)\n",
    "        S = pd.DataFrame(scaler.transform(pd.DataFrame(S)))\n",
    "        df = pd.concat([df, S], axis=1)\n",
    "    \n",
    "    \n",
    "    #dumify state and regions  \n",
    "    if dummies != 'e':\n",
    "        df = pd.get_dummies(df, columns=dummies, prefix = ['province_','communidad_'],drop_first=True)\n",
    "    \n",
    "    \n",
    "    #x y split\n",
    "    y = df[target]\n",
    "    X = df.loc[:,df.columns != target]\n",
    "    \n",
    "    \n",
    "    if dimension_reduction == False:\n",
    "        #delete highly correlated features\n",
    "        corr_features = get_correlation(X, 0.80)\n",
    "        X = X.drop(labels=corr_features, axis = 1)\n",
    "    else:\n",
    "        #PCA dimension reduction\n",
    "        pca = PCA(n_components= len(X.columns) ) #covariant Matrix\n",
    "        x_pca = pca.fit_transform(X)\n",
    "        variance = pca.explained_variance_ratio_ #calculate variance ratios\n",
    "        var=np.cumsum(np.round(pca.explained_variance_ratio_, decimals=5)*100)\n",
    "        x_pca = pd.DataFrame(x_pca)\n",
    "        for el in range(0,len(var)):\n",
    "            if var[el] < 65:\n",
    "                X = x_pca.drop(labels = el, axis = 1)\n",
    "    #train test\n",
    "    X_train, X_test, y_train, y_test = train_test_split(\n",
    "    X, y, test_size=test, random_state=42)\n",
    "    \n",
    "    #prepare weak learner dataset\n",
    "    weak_leaner = pd.DataFrame()\n",
    "    weak_leaner['targetTRUE'] = df[target]\n",
    "    return X_train, X_test, y_train, y_test,weak_leaner"
   ]
  },
  {
   "cell_type": "code",
   "execution_count": 40,
   "metadata": {},
   "outputs": [
    {
     "data": {
      "text/plain": [
       "(       num_casos_prueba_pcr  num_casos_prueba_test_ac  num_casos_prueba_ag  \\\n",
       " 22226                    64                         0                   34   \n",
       " 3566                      6                         1                    0   \n",
       " 15201                   159                         0                    0   \n",
       " 5551                      1                         0                    0   \n",
       " 9539                     57                         0                    0   \n",
       " ...                     ...                       ...                  ...   \n",
       " 21575                    42                         0                   13   \n",
       " 5390                      4                         0                    0   \n",
       " 860                       0                         0                    0   \n",
       " 15795                   106                         0                   74   \n",
       " 23654                   117                         0                   61   \n",
       " \n",
       "        num_casos_prueba_elisa  num_casos_prueba_desconocida  dayyear  year  \\\n",
       " 22226                       0                             0       93  2021   \n",
       " 3566                        0                             0      100  2020   \n",
       " 15201                       2                             0      324  2020   \n",
       " 5551                        0                             0      138  2020   \n",
       " 9539                        0                             0      215  2020   \n",
       " ...                       ...                           ...      ...   ...   \n",
       " 21575                       0                             0       80  2021   \n",
       " 5390                        0                             0      135  2020   \n",
       " 860                         0                             0       48  2020   \n",
       " 15795                       0                             0      335  2020   \n",
       " 23654                       0                             0      120  2021   \n",
       " \n",
       "        people_fully_vaccinated_per_hundred  France_cases_mil  \\\n",
       " 22226                                 6.08         71081.155   \n",
       " 3566                                  0.00           814.558   \n",
       " 15201                                 0.00         31654.373   \n",
       " 5551                                  0.00          2689.336   \n",
       " 9539                                  0.00          3364.279   \n",
       " ...                                    ...               ...   \n",
       " 21575                                 0.00         64280.991   \n",
       " 5390                                  0.00          2673.529   \n",
       " 860                                   0.00             0.178   \n",
       " 15795                                 0.00         33699.389   \n",
       " 23654                                 0.00         84036.083   \n",
       " \n",
       "        Portugal_cases_mil  ...  communidad__GA  communidad__IB  \\\n",
       " 22226           80726.258  ...               0               0   \n",
       " 3566             1368.677  ...               0               0   \n",
       " 15201           23832.106  ...               0               0   \n",
       " 5551             2847.586  ...               0               0   \n",
       " 9539             5047.022  ...               0               0   \n",
       " ...                   ...  ...             ...             ...   \n",
       " 21575           80175.884  ...               0               0   \n",
       " 5390             2777.269  ...               0               0   \n",
       " 860                 0.000  ...               0               0   \n",
       " 15795           29231.104  ...               0               0   \n",
       " 23654           82035.602  ...               0               0   \n",
       " \n",
       "        communidad__MC  communidad__MD  communidad__NC  communidad__PV  \\\n",
       " 22226               0               0               0               0   \n",
       " 3566                1               0               0               0   \n",
       " 15201               0               0               0               0   \n",
       " 5551                0               0               0               0   \n",
       " 9539                0               0               0               0   \n",
       " ...               ...             ...             ...             ...   \n",
       " 21575               0               0               0               0   \n",
       " 5390                0               0               0               0   \n",
       " 860                 0               0               0               0   \n",
       " 15795               0               0               0               0   \n",
       " 23654               0               0               0               0   \n",
       " \n",
       "        communidad__RI  communidad__VC  communidad__indep1  communidad__indep2  \n",
       " 22226               0               0                   0                   0  \n",
       " 3566                0               0                   0                   0  \n",
       " 15201               0               0                   0                   0  \n",
       " 5551                0               0                   0                   0  \n",
       " 9539                0               0                   0                   0  \n",
       " ...               ...             ...                 ...                 ...  \n",
       " 21575               0               1                   0                   0  \n",
       " 5390                0               0                   0                   0  \n",
       " 860                 0               0                   0                   0  \n",
       " 15795               0               0                   0                   0  \n",
       " 23654               0               0                   0                   0  \n",
       " \n",
       " [21507 rows x 87 columns],\n",
       "        num_casos_prueba_pcr  num_casos_prueba_test_ac  num_casos_prueba_ag  \\\n",
       " 6422                      0                         0                    0   \n",
       " 3399                     17                         1                    0   \n",
       " 16452                    36                         0                    8   \n",
       " 6879                      1                         0                    0   \n",
       " 24601                    34                         0                   10   \n",
       " ...                     ...                       ...                  ...   \n",
       " 6494                     10                         0                    0   \n",
       " 4834                     13                         0                    0   \n",
       " 3612                    101                         3                    0   \n",
       " 9410                    375                         0                    0   \n",
       " 836                       1                         0                    0   \n",
       " \n",
       "        num_casos_prueba_elisa  num_casos_prueba_desconocida  dayyear  year  \\\n",
       " 6422                        0                             0      155  2020   \n",
       " 3399                        1                             0       97  2020   \n",
       " 16452                       0                             0      348  2020   \n",
       " 6879                        1                             0      164  2020   \n",
       " 24601                       0                             0      139  2021   \n",
       " ...                       ...                           ...      ...   ...   \n",
       " 6494                        0                             0      156  2020   \n",
       " 4834                        2                             0      124  2020   \n",
       " 3612                        0                             0      101  2020   \n",
       " 9410                        0                             0      212  2020   \n",
       " 836                         0                             0       48  2020   \n",
       " \n",
       "        people_fully_vaccinated_per_hundred  France_cases_mil  \\\n",
       " 6422                                  0.00          2775.269   \n",
       " 3399                                  0.00           753.165   \n",
       " 16452                                 0.00         36003.640   \n",
       " 6879                                  0.00          2900.661   \n",
       " 24601                                16.46         88488.363   \n",
       " ...                                    ...               ...   \n",
       " 6494                                  0.00          2839.801   \n",
       " 4834                                  0.00          2524.116   \n",
       " 3612                                  0.00           837.721   \n",
       " 9410                                  0.00          3343.943   \n",
       " 836                                   0.00             0.178   \n",
       " \n",
       "        Portugal_cases_mil  ...  communidad__GA  communidad__IB  \\\n",
       " 6422             3261.935  ...               1               0   \n",
       " 3399             1150.371  ...               0               0   \n",
       " 16452           34201.630  ...               0               0   \n",
       " 6879             3548.204  ...               0               0   \n",
       " 24601           82701.013  ...               0               0   \n",
       " ...                   ...  ...             ...             ...   \n",
       " 6494             3294.397  ...               0               0   \n",
       " 4834             2479.428  ...               0               0   \n",
       " 3612             1517.353  ...               0               0   \n",
       " 9410             4988.669  ...               0               0   \n",
       " 836                 0.000  ...               0               0   \n",
       " \n",
       "        communidad__MC  communidad__MD  communidad__NC  communidad__PV  \\\n",
       " 6422                0               0               0               0   \n",
       " 3399                0               0               0               0   \n",
       " 16452               0               0               0               0   \n",
       " 6879                0               0               0               0   \n",
       " 24601               0               0               0               0   \n",
       " ...               ...             ...             ...             ...   \n",
       " 6494                0               0               0               0   \n",
       " 4834                0               0               0               0   \n",
       " 3612                0               0               0               0   \n",
       " 9410                0               0               0               0   \n",
       " 836                 0               0               0               0   \n",
       " \n",
       "        communidad__RI  communidad__VC  communidad__indep1  communidad__indep2  \n",
       " 6422                0               0                   0                   0  \n",
       " 3399                0               0                   0                   0  \n",
       " 16452               0               0                   0                   0  \n",
       " 6879                0               0                   0                   0  \n",
       " 24601               0               0                   0                   0  \n",
       " ...               ...             ...                 ...                 ...  \n",
       " 6494                0               0                   0                   0  \n",
       " 4834                0               0                   0                   0  \n",
       " 3612                0               0                   0                   0  \n",
       " 9410                0               0                   0                   0  \n",
       " 836                 0               0                   0                   0  \n",
       " \n",
       " [5377 rows x 87 columns],\n",
       " 22226     98\n",
       " 3566       7\n",
       " 15201    161\n",
       " 5551       1\n",
       " 9539      57\n",
       "         ... \n",
       " 21575     55\n",
       " 5390       4\n",
       " 860        0\n",
       " 15795    180\n",
       " 23654    178\n",
       " Name: num_casos, Length: 21507, dtype: int64,\n",
       " 6422       0\n",
       " 3399      19\n",
       " 16452     44\n",
       " 6879       2\n",
       " 24601     44\n",
       "         ... \n",
       " 6494      10\n",
       " 4834      15\n",
       " 3612     104\n",
       " 9410     375\n",
       " 836        1\n",
       " Name: num_casos, Length: 5377, dtype: int64,\n",
       "        targetTRUE\n",
       " 0               0\n",
       " 1               0\n",
       " 2               0\n",
       " 3               0\n",
       " 4               7\n",
       " ...           ...\n",
       " 26879           0\n",
       " 26880           0\n",
       " 26881           0\n",
       " 26882           0\n",
       " 26883           0\n",
       " \n",
       " [26884 rows x 1 columns])"
      ]
     },
     "execution_count": 40,
     "metadata": {},
     "output_type": "execute_result"
    }
   ],
   "source": [
    "Prepare_dataset(dimension_reduction= True, dummies = ['provincia_iso','Communidad'])"
   ]
  },
  {
   "cell_type": "markdown",
   "metadata": {},
   "source": [
    "## Random forest "
   ]
  },
  {
   "cell_type": "code",
   "execution_count": 268,
   "metadata": {},
   "outputs": [
    {
     "name": "stdout",
     "output_type": "stream",
     "text": [
      "Fitting 2 folds for each of 5 candidates, totalling 10 fits\n"
     ]
    },
    {
     "data": {
      "text/plain": [
       "{'n_estimators': 500,\n",
       " 'min_samples_split': 10,\n",
       " 'min_samples_leaf': 1,\n",
       " 'max_features': 'sqrt',\n",
       " 'max_depth': 80}"
      ]
     },
     "execution_count": 268,
     "metadata": {},
     "output_type": "execute_result"
    }
   ],
   "source": [
    "from sklearn.ensemble import RandomForestClassifier\n",
    "from sklearn.model_selection import GridSearchCV\n",
    "from sklearn.model_selection import RandomizedSearchCV\n",
    "\n",
    "\n",
    "\n",
    "\n",
    "\n",
    "random_grid = {'n_estimators': [200,300,500,800,1300,1500],\n",
    "               'max_features': ['auto', 'sqrt'],\n",
    "               'max_depth': [10,30,50,80],\n",
    "               'min_samples_split': [2, 5, 10],\n",
    "               'min_samples_leaf': [1, 2, 4]}\n",
    "\n",
    "# Use the random grid to search for best hyperparameters\n",
    "# First create the base model to tune\n",
    "rf = RandomForestClassifier()\n",
    "# Random search of parameters, using 3 fold cross validation, \n",
    "# search across 100 different combinations, and use all available cores\n",
    "rf_random = RandomizedSearchCV(estimator = rf, param_distributions = random_grid, n_iter = 5, cv = 2, verbose=2, random_state=42, n_jobs = -1)\n",
    "# Fit the random search model\n",
    "rf_random.fit(X, y)\n",
    "rf_random.best_params_"
   ]
  },
  {
   "cell_type": "markdown",
   "metadata": {},
   "source": [
    "'n_estimators': 500,\n",
    " 'min_samples_split': 10,\n",
    " 'min_samples_leaf': 1,\n",
    " 'max_features': 'sqrt',\n",
    " 'max_depth': 80}"
   ]
  },
  {
   "cell_type": "code",
   "execution_count": 269,
   "metadata": {},
   "outputs": [
    {
     "name": "stdout",
     "output_type": "stream",
     "text": [
      "\n",
      "ACCURACY OF THE MODEL:  0.7538699690402477\n"
     ]
    }
   ],
   "source": [
    "# creating a RF classifier\n",
    "clf = RandomForestClassifier(n_estimators = 500,min_samples_split = 10,\n",
    " min_samples_leaf= 1,\n",
    " max_features = 'sqrt',\n",
    " max_depth = 80)  \n",
    "  \n",
    "# Training the model on the training dataset\n",
    "# fit function is used to train the model using the training sets as parameters\n",
    "clf.fit(X_train, y_train)\n",
    "  \n",
    "# performing predictions on the test dataset\n",
    "y_pred = clf.predict(X_test)\n",
    "  \n",
    "# metrics are used to find accuracy or error\n",
    "from sklearn import metrics  \n",
    "print()\n",
    "  \n",
    "# using metrics module for accuracy calculation\n",
    "print(\"ACCURACY OF THE MODEL: \", metrics.accuracy_score(y_test, y_pred))"
   ]
  },
  {
   "cell_type": "code",
   "execution_count": 270,
   "metadata": {},
   "outputs": [],
   "source": [
    "weak_leaner['targetrandomF'] = y_pred"
   ]
  },
  {
   "cell_type": "code",
   "execution_count": 271,
   "metadata": {},
   "outputs": [],
   "source": [
    "df1['jets'] = weak_leaner['targetrandomF']"
   ]
  },
  {
   "cell_type": "markdown",
   "metadata": {},
   "source": [
    "## Ridge regression"
   ]
  },
  {
   "cell_type": "code",
   "execution_count": 272,
   "metadata": {},
   "outputs": [],
   "source": [
    "from sklearn.linear_model import LogisticRegression"
   ]
  },
  {
   "cell_type": "code",
   "execution_count": 273,
   "metadata": {},
   "outputs": [
    {
     "name": "stdout",
     "output_type": "stream",
     "text": [
      "\n",
      "ACCURACY OF THE MODEL:  0.6617647058823529\n"
     ]
    }
   ],
   "source": [
    "clf = LogisticRegression(random_state=0).fit(X_train, y_train)\n",
    "y_pred = clf.predict(X_test)\n",
    "print()\n",
    "  \n",
    "# using metrics module for accuracy calculation\n",
    "print(\"ACCURACY OF THE MODEL: \", metrics.accuracy_score(y_test, y_pred))"
   ]
  },
  {
   "cell_type": "code",
   "execution_count": 274,
   "metadata": {},
   "outputs": [],
   "source": [
    "weak_leaner['targetridge'] = y_pred"
   ]
  },
  {
   "cell_type": "code",
   "execution_count": null,
   "metadata": {},
   "outputs": [],
   "source": []
  },
  {
   "cell_type": "markdown",
   "metadata": {},
   "source": [
    "## SVM "
   ]
  },
  {
   "cell_type": "code",
   "execution_count": 275,
   "metadata": {
    "lines_to_next_cell": 2
   },
   "outputs": [],
   "source": [
    "from sklearn import svm\n",
    "from sklearn.svm import SVC\n",
    "from sklearn.pipeline import make_pipeline\n"
   ]
  },
  {
   "cell_type": "markdown",
   "metadata": {},
   "source": [
    "param_grid = {'C': [0.1, 1, 10, 100], \n",
    "              'gamma': [0.1, 0.01, 0.001, 0.0001],\n",
    "              'kernel': ['rbf']} \n",
    "  \n",
    "grid = GridSearchCV(SVC(), param_grid, refit = True, cv = 3)\n",
    "  \n",
    "#### fitting the model for grid search\n",
    "grid.fit(X_train, y_train)\n",
    "grid.best_params_"
   ]
  },
  {
   "cell_type": "code",
   "execution_count": 276,
   "metadata": {},
   "outputs": [
    {
     "name": "stdout",
     "output_type": "stream",
     "text": [
      "\n",
      "ACCURACY OF THE MODEL:  0.7360681114551083\n"
     ]
    }
   ],
   "source": [
    "csvm = make_pipeline(StandardScaler(), SVC(gamma='auto'))\n",
    "csvm.fit(X_train, y_train)\n",
    "\n",
    "\n",
    "y_pred = csvm.predict(X_test)\n",
    "\n",
    "print()\n",
    "  \n",
    "# using metrics module for accuracy calculation\n",
    "print(\"ACCURACY OF THE MODEL: \", metrics.accuracy_score(y_test, y_pred))\n"
   ]
  },
  {
   "cell_type": "code",
   "execution_count": 277,
   "metadata": {},
   "outputs": [],
   "source": [
    "weak_leaner['targetsvm'] = y_pred"
   ]
  },
  {
   "cell_type": "code",
   "execution_count": 278,
   "metadata": {},
   "outputs": [],
   "source": [
    "df1['jets'] = weak_leaner['targetsvm']"
   ]
  },
  {
   "cell_type": "markdown",
   "metadata": {},
   "source": [
    "## Nearest neighbor"
   ]
  },
  {
   "cell_type": "code",
   "execution_count": 279,
   "metadata": {},
   "outputs": [
    {
     "name": "stdout",
     "output_type": "stream",
     "text": [
      "\n",
      "ACCURACY OF THE MODEL:  0.6110681114551083\n"
     ]
    }
   ],
   "source": [
    "from sklearn.neighbors import NearestCentroid\n",
    "neigh = NearestCentroid()\n",
    "neigh.fit(X_train, y_train)\n",
    "y_pred = neigh.predict(X_test)\n",
    "\n",
    "print()\n",
    "  \n",
    "# using metrics module for accuracy calculation\n",
    "print(\"ACCURACY OF THE MODEL: \", metrics.accuracy_score(y_test, y_pred))"
   ]
  },
  {
   "cell_type": "code",
   "execution_count": 280,
   "metadata": {},
   "outputs": [],
   "source": [
    "weak_leaner['targetneigh'] = y_pred"
   ]
  },
  {
   "cell_type": "code",
   "execution_count": null,
   "metadata": {},
   "outputs": [],
   "source": []
  },
  {
   "cell_type": "markdown",
   "metadata": {},
   "source": [
    "## PCA LDA "
   ]
  },
  {
   "cell_type": "code",
   "execution_count": 281,
   "metadata": {},
   "outputs": [],
   "source": [
    "from sklearn.discriminant_analysis import LinearDiscriminantAnalysis "
   ]
  },
  {
   "cell_type": "code",
   "execution_count": 283,
   "metadata": {},
   "outputs": [
    {
     "name": "stdout",
     "output_type": "stream",
     "text": [
      "[ 15.6  28.1  36.6  44.8  52.6  60.3  68.   75.5  83.   90.   94.8  98.6\n",
      " 100.2]\n"
     ]
    }
   ],
   "source": [
    "pca = PCA(n_components=13) #covariant Matrix\n",
    "x_pca = pca.fit_transform(X)\n",
    "df_pca =  pca.fit_transform(df9)\n",
    "variance = pca.explained_variance_ratio_ #calculate variance ratios\n",
    "var=np.cumsum(np.round(pca.explained_variance_ratio_, decimals=3)*100)\n",
    "print(var)"
   ]
  },
  {
   "cell_type": "code",
   "execution_count": 284,
   "metadata": {},
   "outputs": [],
   "source": [
    "x_pca = pd.DataFrame(x_pca)\n",
    "x_pca = x_pca.drop(labels = [0,1,2,3,4,5], axis = 1)\n"
   ]
  },
  {
   "cell_type": "code",
   "execution_count": 285,
   "metadata": {},
   "outputs": [],
   "source": [
    "df_pca  = pd.DataFrame(df_pca)\n",
    "df_pca = df_pca.drop(labels = [0,1,2,3,4,5], axis = 1)"
   ]
  },
  {
   "cell_type": "code",
   "execution_count": 286,
   "metadata": {},
   "outputs": [],
   "source": [
    "#train test\n",
    "X_train, X_test, y_train, y_test = train_test_split(\n",
    "   x_pca, y, test_size=0.20, random_state=42)"
   ]
  },
  {
   "cell_type": "code",
   "execution_count": 287,
   "metadata": {},
   "outputs": [
    {
     "data": {
      "text/plain": [
       "LinearDiscriminantAnalysis()"
      ]
     },
     "execution_count": 287,
     "metadata": {},
     "output_type": "execute_result"
    }
   ],
   "source": [
    "model = LinearDiscriminantAnalysis()\n",
    "model.fit(X_train, y_train)"
   ]
  },
  {
   "cell_type": "code",
   "execution_count": 288,
   "metadata": {},
   "outputs": [
    {
     "name": "stdout",
     "output_type": "stream",
     "text": [
      "ACCURACY OF THE MODEL:  0.6408668730650154\n"
     ]
    }
   ],
   "source": [
    "y_pred = model.predict(X_test)\n",
    "print(\"ACCURACY OF THE MODEL: \", metrics.accuracy_score(y_test, y_pred))\n",
    "#weak_leaner['targetlda'] = y_pred"
   ]
  },
  {
   "cell_type": "markdown",
   "metadata": {},
   "source": [
    "## Strong learners"
   ]
  },
  {
   "cell_type": "code",
   "execution_count": 289,
   "metadata": {},
   "outputs": [
    {
     "data": {
      "text/html": [
       "<div>\n",
       "<style scoped>\n",
       "    .dataframe tbody tr th:only-of-type {\n",
       "        vertical-align: middle;\n",
       "    }\n",
       "\n",
       "    .dataframe tbody tr th {\n",
       "        vertical-align: top;\n",
       "    }\n",
       "\n",
       "    .dataframe thead th {\n",
       "        text-align: right;\n",
       "    }\n",
       "</style>\n",
       "<table border=\"1\" class=\"dataframe\">\n",
       "  <thead>\n",
       "    <tr style=\"text-align: right;\">\n",
       "      <th></th>\n",
       "      <th>targetrandomF</th>\n",
       "      <th>targetridge</th>\n",
       "      <th>targetsvm</th>\n",
       "      <th>targetneigh</th>\n",
       "    </tr>\n",
       "  </thead>\n",
       "  <tbody>\n",
       "    <tr>\n",
       "      <th>0</th>\n",
       "      <td>bijet</td>\n",
       "      <td>bijet</td>\n",
       "      <td>bijet</td>\n",
       "      <td>tetrajet</td>\n",
       "    </tr>\n",
       "    <tr>\n",
       "      <th>1</th>\n",
       "      <td>trijet</td>\n",
       "      <td>trijet</td>\n",
       "      <td>trijet</td>\n",
       "      <td>tetrajet</td>\n",
       "    </tr>\n",
       "    <tr>\n",
       "      <th>2</th>\n",
       "      <td>trijet</td>\n",
       "      <td>trijet</td>\n",
       "      <td>trijet</td>\n",
       "      <td>tetrajet</td>\n",
       "    </tr>\n",
       "    <tr>\n",
       "      <th>3</th>\n",
       "      <td>bijet</td>\n",
       "      <td>bijet</td>\n",
       "      <td>bijet</td>\n",
       "      <td>bijet</td>\n",
       "    </tr>\n",
       "    <tr>\n",
       "      <th>4</th>\n",
       "      <td>bijet</td>\n",
       "      <td>bijet</td>\n",
       "      <td>bijet</td>\n",
       "      <td>trijet</td>\n",
       "    </tr>\n",
       "  </tbody>\n",
       "</table>\n",
       "</div>"
      ],
      "text/plain": [
       "  targetrandomF targetridge targetsvm targetneigh\n",
       "0         bijet       bijet     bijet    tetrajet\n",
       "1        trijet      trijet    trijet    tetrajet\n",
       "2        trijet      trijet    trijet    tetrajet\n",
       "3         bijet       bijet     bijet       bijet\n",
       "4         bijet       bijet     bijet      trijet"
      ]
     },
     "execution_count": 289,
     "metadata": {},
     "output_type": "execute_result"
    }
   ],
   "source": [
    "#data \n",
    "weak_leaner.head()"
   ]
  },
  {
   "cell_type": "code",
   "execution_count": 290,
   "metadata": {},
   "outputs": [],
   "source": [
    "weak_leaner = pd.get_dummies(weak_leaner, columns=['targetrandomF','targetridge',\n",
    "                                                   'targetneigh','targetsvm'], prefix = ['random_','ridge_','neigh_','svm_']\n",
    "                             ,drop_first=True)\n"
   ]
  },
  {
   "cell_type": "code",
   "execution_count": 291,
   "metadata": {},
   "outputs": [
    {
     "data": {
      "text/html": [
       "<div>\n",
       "<style scoped>\n",
       "    .dataframe tbody tr th:only-of-type {\n",
       "        vertical-align: middle;\n",
       "    }\n",
       "\n",
       "    .dataframe tbody tr th {\n",
       "        vertical-align: top;\n",
       "    }\n",
       "\n",
       "    .dataframe thead th {\n",
       "        text-align: right;\n",
       "    }\n",
       "</style>\n",
       "<table border=\"1\" class=\"dataframe\">\n",
       "  <thead>\n",
       "    <tr style=\"text-align: right;\">\n",
       "      <th></th>\n",
       "      <th>random__tetrajet</th>\n",
       "      <th>random__trijet</th>\n",
       "      <th>ridge__tetrajet</th>\n",
       "      <th>ridge__trijet</th>\n",
       "      <th>neigh__tetrajet</th>\n",
       "      <th>neigh__trijet</th>\n",
       "      <th>svm__tetrajet</th>\n",
       "      <th>svm__trijet</th>\n",
       "    </tr>\n",
       "  </thead>\n",
       "  <tbody>\n",
       "    <tr>\n",
       "      <th>0</th>\n",
       "      <td>0</td>\n",
       "      <td>0</td>\n",
       "      <td>0</td>\n",
       "      <td>0</td>\n",
       "      <td>1</td>\n",
       "      <td>0</td>\n",
       "      <td>0</td>\n",
       "      <td>0</td>\n",
       "    </tr>\n",
       "    <tr>\n",
       "      <th>1</th>\n",
       "      <td>0</td>\n",
       "      <td>1</td>\n",
       "      <td>0</td>\n",
       "      <td>1</td>\n",
       "      <td>1</td>\n",
       "      <td>0</td>\n",
       "      <td>0</td>\n",
       "      <td>1</td>\n",
       "    </tr>\n",
       "    <tr>\n",
       "      <th>2</th>\n",
       "      <td>0</td>\n",
       "      <td>1</td>\n",
       "      <td>0</td>\n",
       "      <td>1</td>\n",
       "      <td>1</td>\n",
       "      <td>0</td>\n",
       "      <td>0</td>\n",
       "      <td>1</td>\n",
       "    </tr>\n",
       "    <tr>\n",
       "      <th>3</th>\n",
       "      <td>0</td>\n",
       "      <td>0</td>\n",
       "      <td>0</td>\n",
       "      <td>0</td>\n",
       "      <td>0</td>\n",
       "      <td>0</td>\n",
       "      <td>0</td>\n",
       "      <td>0</td>\n",
       "    </tr>\n",
       "    <tr>\n",
       "      <th>4</th>\n",
       "      <td>0</td>\n",
       "      <td>0</td>\n",
       "      <td>0</td>\n",
       "      <td>0</td>\n",
       "      <td>0</td>\n",
       "      <td>1</td>\n",
       "      <td>0</td>\n",
       "      <td>0</td>\n",
       "    </tr>\n",
       "    <tr>\n",
       "      <th>...</th>\n",
       "      <td>...</td>\n",
       "      <td>...</td>\n",
       "      <td>...</td>\n",
       "      <td>...</td>\n",
       "      <td>...</td>\n",
       "      <td>...</td>\n",
       "      <td>...</td>\n",
       "      <td>...</td>\n",
       "    </tr>\n",
       "    <tr>\n",
       "      <th>2579</th>\n",
       "      <td>0</td>\n",
       "      <td>0</td>\n",
       "      <td>0</td>\n",
       "      <td>0</td>\n",
       "      <td>0</td>\n",
       "      <td>0</td>\n",
       "      <td>0</td>\n",
       "      <td>0</td>\n",
       "    </tr>\n",
       "    <tr>\n",
       "      <th>2580</th>\n",
       "      <td>0</td>\n",
       "      <td>1</td>\n",
       "      <td>0</td>\n",
       "      <td>0</td>\n",
       "      <td>0</td>\n",
       "      <td>0</td>\n",
       "      <td>0</td>\n",
       "      <td>1</td>\n",
       "    </tr>\n",
       "    <tr>\n",
       "      <th>2581</th>\n",
       "      <td>0</td>\n",
       "      <td>1</td>\n",
       "      <td>0</td>\n",
       "      <td>1</td>\n",
       "      <td>1</td>\n",
       "      <td>0</td>\n",
       "      <td>0</td>\n",
       "      <td>1</td>\n",
       "    </tr>\n",
       "    <tr>\n",
       "      <th>2582</th>\n",
       "      <td>0</td>\n",
       "      <td>1</td>\n",
       "      <td>0</td>\n",
       "      <td>0</td>\n",
       "      <td>0</td>\n",
       "      <td>1</td>\n",
       "      <td>0</td>\n",
       "      <td>1</td>\n",
       "    </tr>\n",
       "    <tr>\n",
       "      <th>2583</th>\n",
       "      <td>0</td>\n",
       "      <td>0</td>\n",
       "      <td>0</td>\n",
       "      <td>0</td>\n",
       "      <td>0</td>\n",
       "      <td>0</td>\n",
       "      <td>0</td>\n",
       "      <td>0</td>\n",
       "    </tr>\n",
       "  </tbody>\n",
       "</table>\n",
       "<p>2584 rows × 8 columns</p>\n",
       "</div>"
      ],
      "text/plain": [
       "      random__tetrajet  random__trijet  ridge__tetrajet  ridge__trijet  \\\n",
       "0                    0               0                0              0   \n",
       "1                    0               1                0              1   \n",
       "2                    0               1                0              1   \n",
       "3                    0               0                0              0   \n",
       "4                    0               0                0              0   \n",
       "...                ...             ...              ...            ...   \n",
       "2579                 0               0                0              0   \n",
       "2580                 0               1                0              0   \n",
       "2581                 0               1                0              1   \n",
       "2582                 0               1                0              0   \n",
       "2583                 0               0                0              0   \n",
       "\n",
       "      neigh__tetrajet  neigh__trijet  svm__tetrajet  svm__trijet  \n",
       "0                   1              0              0            0  \n",
       "1                   1              0              0            1  \n",
       "2                   1              0              0            1  \n",
       "3                   0              0              0            0  \n",
       "4                   0              1              0            0  \n",
       "...               ...            ...            ...          ...  \n",
       "2579                0              0              0            0  \n",
       "2580                0              0              0            1  \n",
       "2581                1              0              0            1  \n",
       "2582                0              1              0            1  \n",
       "2583                0              0              0            0  \n",
       "\n",
       "[2584 rows x 8 columns]"
      ]
     },
     "execution_count": 291,
     "metadata": {},
     "output_type": "execute_result"
    }
   ],
   "source": [
    "weak_leaner"
   ]
  },
  {
   "cell_type": "code",
   "execution_count": 292,
   "metadata": {},
   "outputs": [
    {
     "ename": "KeyError",
     "evalue": "'targetTRUE'",
     "output_type": "error",
     "traceback": [
      "\u001b[1;31m---------------------------------------------------------------------------\u001b[0m",
      "\u001b[1;31mKeyError\u001b[0m                                  Traceback (most recent call last)",
      "\u001b[1;32m~\\Documents\\Python\\Anaconda\\lib\\site-packages\\pandas\\core\\indexes\\base.py\u001b[0m in \u001b[0;36mget_loc\u001b[1;34m(self, key, method, tolerance)\u001b[0m\n\u001b[0;32m   3079\u001b[0m             \u001b[1;32mtry\u001b[0m\u001b[1;33m:\u001b[0m\u001b[1;33m\u001b[0m\u001b[1;33m\u001b[0m\u001b[0m\n\u001b[1;32m-> 3080\u001b[1;33m                 \u001b[1;32mreturn\u001b[0m \u001b[0mself\u001b[0m\u001b[1;33m.\u001b[0m\u001b[0m_engine\u001b[0m\u001b[1;33m.\u001b[0m\u001b[0mget_loc\u001b[0m\u001b[1;33m(\u001b[0m\u001b[0mcasted_key\u001b[0m\u001b[1;33m)\u001b[0m\u001b[1;33m\u001b[0m\u001b[1;33m\u001b[0m\u001b[0m\n\u001b[0m\u001b[0;32m   3081\u001b[0m             \u001b[1;32mexcept\u001b[0m \u001b[0mKeyError\u001b[0m \u001b[1;32mas\u001b[0m \u001b[0merr\u001b[0m\u001b[1;33m:\u001b[0m\u001b[1;33m\u001b[0m\u001b[1;33m\u001b[0m\u001b[0m\n",
      "\u001b[1;32mpandas\\_libs\\index.pyx\u001b[0m in \u001b[0;36mpandas._libs.index.IndexEngine.get_loc\u001b[1;34m()\u001b[0m\n",
      "\u001b[1;32mpandas\\_libs\\index.pyx\u001b[0m in \u001b[0;36mpandas._libs.index.IndexEngine.get_loc\u001b[1;34m()\u001b[0m\n",
      "\u001b[1;32mpandas\\_libs\\hashtable_class_helper.pxi\u001b[0m in \u001b[0;36mpandas._libs.hashtable.PyObjectHashTable.get_item\u001b[1;34m()\u001b[0m\n",
      "\u001b[1;32mpandas\\_libs\\hashtable_class_helper.pxi\u001b[0m in \u001b[0;36mpandas._libs.hashtable.PyObjectHashTable.get_item\u001b[1;34m()\u001b[0m\n",
      "\u001b[1;31mKeyError\u001b[0m: 'targetTRUE'",
      "\nThe above exception was the direct cause of the following exception:\n",
      "\u001b[1;31mKeyError\u001b[0m                                  Traceback (most recent call last)",
      "\u001b[1;32m<ipython-input-292-4edb3d062cab>\u001b[0m in \u001b[0;36m<module>\u001b[1;34m\u001b[0m\n\u001b[1;32m----> 1\u001b[1;33m \u001b[0my\u001b[0m \u001b[1;33m=\u001b[0m \u001b[0mweak_leaner\u001b[0m\u001b[1;33m[\u001b[0m\u001b[1;34m\"targetTRUE\"\u001b[0m\u001b[1;33m]\u001b[0m\u001b[1;33m\u001b[0m\u001b[1;33m\u001b[0m\u001b[0m\n\u001b[0m\u001b[0;32m      2\u001b[0m \u001b[0mX\u001b[0m \u001b[1;33m=\u001b[0m \u001b[0mweak_leaner\u001b[0m\u001b[1;33m.\u001b[0m\u001b[0mloc\u001b[0m\u001b[1;33m[\u001b[0m\u001b[1;33m:\u001b[0m\u001b[1;33m,\u001b[0m\u001b[0mweak_leaner\u001b[0m\u001b[1;33m.\u001b[0m\u001b[0mcolumns\u001b[0m \u001b[1;33m!=\u001b[0m \u001b[1;34m\"targetTRUE\"\u001b[0m\u001b[1;33m]\u001b[0m\u001b[1;33m\u001b[0m\u001b[1;33m\u001b[0m\u001b[0m\n",
      "\u001b[1;32m~\\Documents\\Python\\Anaconda\\lib\\site-packages\\pandas\\core\\frame.py\u001b[0m in \u001b[0;36m__getitem__\u001b[1;34m(self, key)\u001b[0m\n\u001b[0;32m   3022\u001b[0m             \u001b[1;32mif\u001b[0m \u001b[0mself\u001b[0m\u001b[1;33m.\u001b[0m\u001b[0mcolumns\u001b[0m\u001b[1;33m.\u001b[0m\u001b[0mnlevels\u001b[0m \u001b[1;33m>\u001b[0m \u001b[1;36m1\u001b[0m\u001b[1;33m:\u001b[0m\u001b[1;33m\u001b[0m\u001b[1;33m\u001b[0m\u001b[0m\n\u001b[0;32m   3023\u001b[0m                 \u001b[1;32mreturn\u001b[0m \u001b[0mself\u001b[0m\u001b[1;33m.\u001b[0m\u001b[0m_getitem_multilevel\u001b[0m\u001b[1;33m(\u001b[0m\u001b[0mkey\u001b[0m\u001b[1;33m)\u001b[0m\u001b[1;33m\u001b[0m\u001b[1;33m\u001b[0m\u001b[0m\n\u001b[1;32m-> 3024\u001b[1;33m             \u001b[0mindexer\u001b[0m \u001b[1;33m=\u001b[0m \u001b[0mself\u001b[0m\u001b[1;33m.\u001b[0m\u001b[0mcolumns\u001b[0m\u001b[1;33m.\u001b[0m\u001b[0mget_loc\u001b[0m\u001b[1;33m(\u001b[0m\u001b[0mkey\u001b[0m\u001b[1;33m)\u001b[0m\u001b[1;33m\u001b[0m\u001b[1;33m\u001b[0m\u001b[0m\n\u001b[0m\u001b[0;32m   3025\u001b[0m             \u001b[1;32mif\u001b[0m \u001b[0mis_integer\u001b[0m\u001b[1;33m(\u001b[0m\u001b[0mindexer\u001b[0m\u001b[1;33m)\u001b[0m\u001b[1;33m:\u001b[0m\u001b[1;33m\u001b[0m\u001b[1;33m\u001b[0m\u001b[0m\n\u001b[0;32m   3026\u001b[0m                 \u001b[0mindexer\u001b[0m \u001b[1;33m=\u001b[0m \u001b[1;33m[\u001b[0m\u001b[0mindexer\u001b[0m\u001b[1;33m]\u001b[0m\u001b[1;33m\u001b[0m\u001b[1;33m\u001b[0m\u001b[0m\n",
      "\u001b[1;32m~\\Documents\\Python\\Anaconda\\lib\\site-packages\\pandas\\core\\indexes\\base.py\u001b[0m in \u001b[0;36mget_loc\u001b[1;34m(self, key, method, tolerance)\u001b[0m\n\u001b[0;32m   3080\u001b[0m                 \u001b[1;32mreturn\u001b[0m \u001b[0mself\u001b[0m\u001b[1;33m.\u001b[0m\u001b[0m_engine\u001b[0m\u001b[1;33m.\u001b[0m\u001b[0mget_loc\u001b[0m\u001b[1;33m(\u001b[0m\u001b[0mcasted_key\u001b[0m\u001b[1;33m)\u001b[0m\u001b[1;33m\u001b[0m\u001b[1;33m\u001b[0m\u001b[0m\n\u001b[0;32m   3081\u001b[0m             \u001b[1;32mexcept\u001b[0m \u001b[0mKeyError\u001b[0m \u001b[1;32mas\u001b[0m \u001b[0merr\u001b[0m\u001b[1;33m:\u001b[0m\u001b[1;33m\u001b[0m\u001b[1;33m\u001b[0m\u001b[0m\n\u001b[1;32m-> 3082\u001b[1;33m                 \u001b[1;32mraise\u001b[0m \u001b[0mKeyError\u001b[0m\u001b[1;33m(\u001b[0m\u001b[0mkey\u001b[0m\u001b[1;33m)\u001b[0m \u001b[1;32mfrom\u001b[0m \u001b[0merr\u001b[0m\u001b[1;33m\u001b[0m\u001b[1;33m\u001b[0m\u001b[0m\n\u001b[0m\u001b[0;32m   3083\u001b[0m \u001b[1;33m\u001b[0m\u001b[0m\n\u001b[0;32m   3084\u001b[0m         \u001b[1;32mif\u001b[0m \u001b[0mtolerance\u001b[0m \u001b[1;32mis\u001b[0m \u001b[1;32mnot\u001b[0m \u001b[1;32mNone\u001b[0m\u001b[1;33m:\u001b[0m\u001b[1;33m\u001b[0m\u001b[1;33m\u001b[0m\u001b[0m\n",
      "\u001b[1;31mKeyError\u001b[0m: 'targetTRUE'"
     ]
    }
   ],
   "source": [
    "y = weak_leaner[\"targetTRUE\"]\n",
    "X = weak_leaner.loc[:,weak_leaner.columns != \"targetTRUE\"]"
   ]
  },
  {
   "cell_type": "code",
   "execution_count": null,
   "metadata": {},
   "outputs": [],
   "source": [
    "#train test\n",
    "X_train, X_test, y_train, y_test = train_test_split(\n",
    "   X, y, test_size=0.40, random_state=42)"
   ]
  },
  {
   "cell_type": "markdown",
   "metadata": {},
   "source": [
    "## AdaBoost"
   ]
  },
  {
   "cell_type": "code",
   "execution_count": null,
   "metadata": {},
   "outputs": [],
   "source": [
    "from sklearn.tree import DecisionTreeClassifier\n",
    "from sklearn.ensemble import GradientBoostingClassifier"
   ]
  },
  {
   "cell_type": "code",
   "execution_count": null,
   "metadata": {},
   "outputs": [],
   "source": [
    "boost = GradientBoostingClassifier(n_estimators=500, learning_rate=0.5,max_depth=50, random_state=0).fit(X_train, y_train)"
   ]
  },
  {
   "cell_type": "code",
   "execution_count": null,
   "metadata": {},
   "outputs": [],
   "source": [
    "y_pred = boost.predict(X_test)\n",
    "\n",
    "print()\n",
    "  \n",
    "# using metrics module for accuracy calculation\n",
    "print(\"ACCURACY OF THE MODEL: \", metrics.accuracy_score(y_test, y_pred))"
   ]
  },
  {
   "cell_type": "code",
   "execution_count": null,
   "metadata": {},
   "outputs": [],
   "source": []
  },
  {
   "cell_type": "markdown",
   "metadata": {},
   "source": [
    "## Neural network"
   ]
  },
  {
   "cell_type": "code",
   "execution_count": null,
   "metadata": {},
   "outputs": [],
   "source": [
    "from sklearn.neural_network import MLPClassifier\n",
    "\n",
    "nn = MLPClassifier(solver='lbfgs', alpha=1e-5,\n",
    "                  hidden_layer_sizes=(5, 2), random_state=1, max_iter=150)\n",
    "nn.fit(X_train, y_train)\n",
    "\n",
    "y_pred = nn.predict(X_test)\n",
    "\n",
    "print()\n",
    "  \n",
    "# using metrics module for accuracy calculation\n",
    "print(\"ACCURACY OF THE MODEL: \", metrics.accuracy_score(y_test, y_pred))"
   ]
  },
  {
   "cell_type": "code",
   "execution_count": null,
   "metadata": {},
   "outputs": [],
   "source": [
    "weak_leaner['targetnn'] = y_pred\n",
    "df1['jets'] = weak_leaner['targetnn']"
   ]
  },
  {
   "cell_type": "markdown",
   "metadata": {},
   "source": [
    "# Submit"
   ]
  },
  {
   "cell_type": "code",
   "execution_count": null,
   "metadata": {},
   "outputs": [],
   "source": [
    "df1.to_csv('submit7.csv',index=False,header = True)"
   ]
  },
  {
   "cell_type": "code",
   "execution_count": null,
   "metadata": {},
   "outputs": [],
   "source": []
  }
 ],
 "metadata": {
  "jupytext": {
   "formats": "ipynb,md"
  },
  "kernelspec": {
   "display_name": "Python 3",
   "language": "python",
   "name": "python3"
  },
  "language_info": {
   "codemirror_mode": {
    "name": "ipython",
    "version": 3
   },
   "file_extension": ".py",
   "mimetype": "text/x-python",
   "name": "python",
   "nbconvert_exporter": "python",
   "pygments_lexer": "ipython3",
   "version": "3.7.6"
  }
 },
 "nbformat": 4,
 "nbformat_minor": 4
}
