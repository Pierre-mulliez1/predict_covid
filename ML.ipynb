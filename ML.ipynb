{
 "cells": [
  {
   "cell_type": "code",
   "execution_count": 4,
   "metadata": {},
   "outputs": [],
   "source": [
    "#import packages \n",
    "import sklearn\n",
    "import pandas as pd\n",
    "import numpy as np\n",
    "import os\n",
    "import matplotlib.pyplot as plt"
   ]
  },
  {
   "cell_type": "code",
   "execution_count": 5,
   "metadata": {},
   "outputs": [],
   "source": [
    "#Load dataset\n",
    "\n",
    "DIRECTORY_WHERE_THIS_FILE_IS = os.path.dirname(os.path.abspath(\"ml_stacking.md\"))\n",
    "DATA_PATH = os.path.join(DIRECTORY_WHERE_THIS_FILE_IS, \"data/prepared_dataset.csv\")\n",
    "df1 = pd.read_csv(DATA_PATH)"
   ]
  },
  {
   "cell_type": "code",
   "execution_count": 6,
   "metadata": {},
   "outputs": [
    {
     "name": "stdout",
     "output_type": "stream",
     "text": [
      "(791010, 22)\n",
      "   Unnamed: 0 provincia_iso       fecha  num_casos_x  num_casos_prueba_pcr  \\\n",
      "0           0             A  2020-02-01            0                     0   \n",
      "1           1             A  2020-02-01            0                     0   \n",
      "2           2             A  2020-02-01            0                     0   \n",
      "3           3             A  2020-02-01            0                     0   \n",
      "4           4             A  2020-02-01            0                     0   \n",
      "\n",
      "   num_casos_prueba_test_ac  num_casos_prueba_ag  num_casos_prueba_elisa  \\\n",
      "0                         0                    0                       0   \n",
      "1                         0                    0                       0   \n",
      "2                         0                    0                       0   \n",
      "3                         0                    0                       0   \n",
      "4                         0                    0                       0   \n",
      "\n",
      "   num_casos_prueba_desconocida sexo  ... num_hosp  num_uci  num_def  \\\n",
      "0                             0    H  ...        0        0        0   \n",
      "1                             0    H  ...        0        0        0   \n",
      "2                             0    H  ...        0        0        0   \n",
      "3                             0    H  ...        0        0        0   \n",
      "4                             0    H  ...        0        0        0   \n",
      "\n",
      "   people_fully_vaccinated_per_hundred  France_cases_mil  Portugal_cases_mil  \\\n",
      "0                                  0.0             0.089                 0.0   \n",
      "1                                  0.0             0.089                 0.0   \n",
      "2                                  0.0             0.089                 0.0   \n",
      "3                                  0.0             0.089                 0.0   \n",
      "4                                  0.0             0.089                 0.0   \n",
      "\n",
      "         date  provincia  poblacion Communidad  \n",
      "0  2020-02-01   Alicante  1879888.0         VC  \n",
      "1  2020-02-01   Alicante  1879888.0         VC  \n",
      "2  2020-02-01   Alicante  1879888.0         VC  \n",
      "3  2020-02-01   Alicante  1879888.0         VC  \n",
      "4  2020-02-01   Alicante  1879888.0         VC  \n",
      "\n",
      "[5 rows x 22 columns]\n"
     ]
    }
   ],
   "source": [
    "print(df1.shape)\n",
    "print(df1.head())\n",
    "\n",
    "#drop the index \n",
    "df1 = df1.drop(\"Unnamed: 0\", axis = 1)"
   ]
  },
  {
   "cell_type": "code",
   "execution_count": 33,
   "metadata": {},
   "outputs": [
    {
     "name": "stdout",
     "output_type": "stream",
     "text": [
      "Number of provinces: 51\n",
      "Approximate number of days by region: 517\n",
      "Number of distinct age groups: 10\n",
      "\n",
      "263670\n",
      "         num_casos_x  num_casos_prueba_pcr  num_casos_prueba_test_ac  \\\n",
      "count  791010.000000         791010.000000             791010.000000   \n",
      "mean      141.604013            108.366974                  0.178367   \n",
      "std       365.537805            286.652506                  1.234456   \n",
      "min         0.000000              0.000000                  0.000000   \n",
      "25%         8.000000              6.000000                  0.000000   \n",
      "50%        43.000000             32.000000                  0.000000   \n",
      "75%       124.000000             98.000000                  0.000000   \n",
      "max      7017.000000           6602.000000                 32.000000   \n",
      "\n",
      "       num_casos_prueba_ag  num_casos_prueba_elisa  \\\n",
      "count        791010.000000           791010.000000   \n",
      "mean             30.447302                0.576516   \n",
      "std             122.692577                5.044326   \n",
      "min               0.000000                0.000000   \n",
      "25%               0.000000                0.000000   \n",
      "50%               1.000000                0.000000   \n",
      "75%              17.000000                0.000000   \n",
      "max            3251.000000              115.000000   \n",
      "\n",
      "       num_casos_prueba_desconocida    num_casos_y       num_hosp  \\\n",
      "count                 791010.000000  791010.000000  791010.000000   \n",
      "mean                       2.034854       4.720172       0.455069   \n",
      "std                       22.182779      19.077094       3.027959   \n",
      "min                        0.000000       0.000000       0.000000   \n",
      "25%                        0.000000       0.000000       0.000000   \n",
      "50%                        0.000000       0.000000       0.000000   \n",
      "75%                        0.000000       3.000000       0.000000   \n",
      "max                      702.000000     889.000000     269.000000   \n",
      "\n",
      "             num_uci        num_def  people_fully_vaccinated_per_hundred  \\\n",
      "count  791010.000000  791010.000000                        791010.000000   \n",
      "mean        0.043128       0.100257                             2.533443   \n",
      "std         0.351361       0.978802                             6.893931   \n",
      "min         0.000000       0.000000                             0.000000   \n",
      "25%         0.000000       0.000000                             0.000000   \n",
      "50%         0.000000       0.000000                             0.000000   \n",
      "75%         0.000000       0.000000                             0.000000   \n",
      "max        35.000000     100.000000                            39.500000   \n",
      "\n",
      "       France_cases_mil  Portugal_cases_mil     poblacion  \n",
      "count     791010.000000       791010.000000  7.910100e+05  \n",
      "mean       29955.486292        32321.554729  9.272642e+05  \n",
      "std        31315.890871        34236.295660  1.202419e+06  \n",
      "min            0.089000            0.000000  8.420200e+04  \n",
      "25%         2874.153000         3462.490000  3.279460e+05  \n",
      "50%        13004.022000         9405.193000  6.313810e+05  \n",
      "75%        54309.105000        78267.817000  1.044887e+06  \n",
      "max        88488.363000        86499.102000  6.779888e+06  \n"
     ]
    }
   ],
   "source": [
    "#some insights\n",
    "print(\"Number of provinces: {}\".format(df1['provincia'].nunique()))\n",
    "print(\"Approximate number of days by region: {}\".format(df1['fecha'].nunique()))\n",
    "print(\"Number of distinct age groups: {}\".format(df1['grupo_edad'].nunique()))\n",
    "print('')\n",
    "print(517*51*10)\n",
    "print(df1.describe())"
   ]
  },
  {
   "cell_type": "code",
   "execution_count": 253,
   "metadata": {},
   "outputs": [],
   "source": [
    "#df8 = pd.get_dummies(df8, columns=[''], prefix = '',drop_first=True)"
   ]
  },
  {
   "cell_type": "markdown",
   "metadata": {},
   "source": [
    "## Machine learning"
   ]
  },
  {
   "cell_type": "markdown",
   "metadata": {},
   "source": [
    "### Split the dataset"
   ]
  },
  {
   "cell_type": "code",
   "execution_count": 257,
   "metadata": {},
   "outputs": [],
   "source": [
    "from sklearn.model_selection import train_test_split"
   ]
  },
  {
   "cell_type": "code",
   "execution_count": 258,
   "metadata": {},
   "outputs": [],
   "source": [
    "y = df8[\"jets\"]\n",
    "X = df8.loc[:,df8.columns != \"jets\"]"
   ]
  },
  {
   "cell_type": "code",
   "execution_count": 259,
   "metadata": {},
   "outputs": [],
   "source": [
    "#scale \n",
    "scaler = StandardScaler().fit(X)\n",
    "X = scaler.transform(X)\n",
    "X = pd.DataFrame(X)"
   ]
  },
  {
   "cell_type": "code",
   "execution_count": 260,
   "metadata": {},
   "outputs": [
    {
     "name": "stdout",
     "output_type": "stream",
     "text": [
      "correlated features:  4\n"
     ]
    },
    {
     "data": {
      "text/plain": [
       "{8, 9, 15, 16}"
      ]
     },
     "execution_count": 260,
     "metadata": {},
     "output_type": "execute_result"
    }
   ],
   "source": [
    "#remove correlated features\n",
    "def get_correlation(data, threshold):\n",
    "    corr_col = set()\n",
    "    corrmat = data.corr()\n",
    "    for i in range(len(corrmat.columns)):\n",
    "        for j in range(i):\n",
    "            if abs(corrmat.iloc[i, j]) > threshold:\n",
    "                colname = corrmat.columns[i]\n",
    "                corr_col.add(colname)\n",
    "    return corr_col\n",
    "\n",
    "corr_features = get_correlation(X, 0.70)\n",
    "print('correlated features: ', len(set(corr_features)) )\n",
    "corr_features"
   ]
  },
  {
   "cell_type": "code",
   "execution_count": 261,
   "metadata": {},
   "outputs": [],
   "source": [
    "X = X.drop(labels=corr_features, axis = 1)"
   ]
  },
  {
   "cell_type": "code",
   "execution_count": 262,
   "metadata": {},
   "outputs": [],
   "source": [
    "#train test\n",
    "X_train, X_test, y_train, y_test = train_test_split(\n",
    "   X, y, test_size=0.20, random_state=42)"
   ]
  },
  {
   "cell_type": "code",
   "execution_count": 263,
   "metadata": {},
   "outputs": [
    {
     "data": {
      "text/html": [
       "<div>\n",
       "<style scoped>\n",
       "    .dataframe tbody tr th:only-of-type {\n",
       "        vertical-align: middle;\n",
       "    }\n",
       "\n",
       "    .dataframe tbody tr th {\n",
       "        vertical-align: top;\n",
       "    }\n",
       "\n",
       "    .dataframe thead th {\n",
       "        text-align: right;\n",
       "    }\n",
       "</style>\n",
       "<table border=\"1\" class=\"dataframe\">\n",
       "  <thead>\n",
       "    <tr style=\"text-align: right;\">\n",
       "      <th></th>\n",
       "      <th>0</th>\n",
       "      <th>1</th>\n",
       "      <th>2</th>\n",
       "      <th>3</th>\n",
       "      <th>4</th>\n",
       "      <th>5</th>\n",
       "      <th>6</th>\n",
       "      <th>7</th>\n",
       "      <th>10</th>\n",
       "      <th>11</th>\n",
       "      <th>12</th>\n",
       "      <th>13</th>\n",
       "      <th>14</th>\n",
       "    </tr>\n",
       "  </thead>\n",
       "  <tbody>\n",
       "    <tr>\n",
       "      <th>0</th>\n",
       "      <td>-1.091549</td>\n",
       "      <td>1.653609e+00</td>\n",
       "      <td>-0.848858</td>\n",
       "      <td>2.426353e-01</td>\n",
       "      <td>0.029613</td>\n",
       "      <td>-1.186492</td>\n",
       "      <td>0.796386</td>\n",
       "      <td>0.385235</td>\n",
       "      <td>-1.066611</td>\n",
       "      <td>-0.379469</td>\n",
       "      <td>-0.210351</td>\n",
       "      <td>-0.230168</td>\n",
       "      <td>-1.069832</td>\n",
       "    </tr>\n",
       "    <tr>\n",
       "      <th>1</th>\n",
       "      <td>0.700838</td>\n",
       "      <td>-6.452241e-01</td>\n",
       "      <td>-0.193342</td>\n",
       "      <td>-1.122394e-01</td>\n",
       "      <td>1.123036</td>\n",
       "      <td>0.507703</td>\n",
       "      <td>-0.695177</td>\n",
       "      <td>-0.874038</td>\n",
       "      <td>-0.075723</td>\n",
       "      <td>-0.548551</td>\n",
       "      <td>-0.503033</td>\n",
       "      <td>-0.230168</td>\n",
       "      <td>-1.069832</td>\n",
       "    </tr>\n",
       "    <tr>\n",
       "      <th>2</th>\n",
       "      <td>0.253814</td>\n",
       "      <td>4.120875e+00</td>\n",
       "      <td>-0.918160</td>\n",
       "      <td>5.419162e-16</td>\n",
       "      <td>-0.628517</td>\n",
       "      <td>0.516303</td>\n",
       "      <td>1.293270</td>\n",
       "      <td>1.731160</td>\n",
       "      <td>-1.958203</td>\n",
       "      <td>-0.183907</td>\n",
       "      <td>0.911880</td>\n",
       "      <td>-0.230168</td>\n",
       "      <td>-1.242692</td>\n",
       "    </tr>\n",
       "    <tr>\n",
       "      <th>3</th>\n",
       "      <td>-1.150008</td>\n",
       "      <td>-7.062698e-01</td>\n",
       "      <td>-0.891927</td>\n",
       "      <td>-6.560297e-01</td>\n",
       "      <td>-1.123558</td>\n",
       "      <td>-0.065798</td>\n",
       "      <td>0.376658</td>\n",
       "      <td>-0.786347</td>\n",
       "      <td>0.018141</td>\n",
       "      <td>-0.446457</td>\n",
       "      <td>-1.343740</td>\n",
       "      <td>-0.230168</td>\n",
       "      <td>0.863517</td>\n",
       "    </tr>\n",
       "    <tr>\n",
       "      <th>4</th>\n",
       "      <td>1.536427</td>\n",
       "      <td>-8.275012e-01</td>\n",
       "      <td>0.704445</td>\n",
       "      <td>-6.434407e-01</td>\n",
       "      <td>-0.927922</td>\n",
       "      <td>0.786186</td>\n",
       "      <td>-0.300530</td>\n",
       "      <td>-0.253791</td>\n",
       "      <td>-0.637898</td>\n",
       "      <td>-0.621303</td>\n",
       "      <td>-0.107925</td>\n",
       "      <td>-0.230168</td>\n",
       "      <td>0.863517</td>\n",
       "    </tr>\n",
       "    <tr>\n",
       "      <th>...</th>\n",
       "      <td>...</td>\n",
       "      <td>...</td>\n",
       "      <td>...</td>\n",
       "      <td>...</td>\n",
       "      <td>...</td>\n",
       "      <td>...</td>\n",
       "      <td>...</td>\n",
       "      <td>...</td>\n",
       "      <td>...</td>\n",
       "      <td>...</td>\n",
       "      <td>...</td>\n",
       "      <td>...</td>\n",
       "      <td>...</td>\n",
       "    </tr>\n",
       "    <tr>\n",
       "      <th>12913</th>\n",
       "      <td>1.125873</td>\n",
       "      <td>-1.057868e+00</td>\n",
       "      <td>-0.278391</td>\n",
       "      <td>-9.660097e-01</td>\n",
       "      <td>-0.584522</td>\n",
       "      <td>-0.768905</td>\n",
       "      <td>-0.026566</td>\n",
       "      <td>-0.914185</td>\n",
       "      <td>-0.083908</td>\n",
       "      <td>-0.966413</td>\n",
       "      <td>-0.932717</td>\n",
       "      <td>-0.230168</td>\n",
       "      <td>-1.069832</td>\n",
       "    </tr>\n",
       "    <tr>\n",
       "      <th>12914</th>\n",
       "      <td>-0.240943</td>\n",
       "      <td>7.362076e+00</td>\n",
       "      <td>-0.647702</td>\n",
       "      <td>6.900773e+00</td>\n",
       "      <td>1.075159</td>\n",
       "      <td>2.762928</td>\n",
       "      <td>-5.061174</td>\n",
       "      <td>0.588295</td>\n",
       "      <td>1.028131</td>\n",
       "      <td>2.901431</td>\n",
       "      <td>5.919321</td>\n",
       "      <td>-0.230168</td>\n",
       "      <td>0.863517</td>\n",
       "    </tr>\n",
       "    <tr>\n",
       "      <th>12915</th>\n",
       "      <td>-0.439382</td>\n",
       "      <td>-6.533039e-01</td>\n",
       "      <td>-0.796812</td>\n",
       "      <td>1.099262e+00</td>\n",
       "      <td>-0.106997</td>\n",
       "      <td>1.210635</td>\n",
       "      <td>1.548843</td>\n",
       "      <td>-0.249536</td>\n",
       "      <td>0.614199</td>\n",
       "      <td>-0.315719</td>\n",
       "      <td>-1.239332</td>\n",
       "      <td>-0.230168</td>\n",
       "      <td>0.863517</td>\n",
       "    </tr>\n",
       "    <tr>\n",
       "      <th>12916</th>\n",
       "      <td>0.942451</td>\n",
       "      <td>-3.347523e-16</td>\n",
       "      <td>-0.016395</td>\n",
       "      <td>-9.130097e-01</td>\n",
       "      <td>-0.702312</td>\n",
       "      <td>-0.690018</td>\n",
       "      <td>-0.110922</td>\n",
       "      <td>-0.925295</td>\n",
       "      <td>0.022541</td>\n",
       "      <td>-0.921364</td>\n",
       "      <td>-0.612663</td>\n",
       "      <td>-0.230168</td>\n",
       "      <td>0.863517</td>\n",
       "    </tr>\n",
       "    <tr>\n",
       "      <th>12917</th>\n",
       "      <td>-0.921535</td>\n",
       "      <td>4.008314e-01</td>\n",
       "      <td>-0.502723</td>\n",
       "      <td>1.455391e+00</td>\n",
       "      <td>-0.776085</td>\n",
       "      <td>0.188976</td>\n",
       "      <td>1.710642</td>\n",
       "      <td>-0.499343</td>\n",
       "      <td>-0.208190</td>\n",
       "      <td>0.383354</td>\n",
       "      <td>1.604354</td>\n",
       "      <td>-0.230168</td>\n",
       "      <td>-1.242692</td>\n",
       "    </tr>\n",
       "  </tbody>\n",
       "</table>\n",
       "<p>12918 rows × 13 columns</p>\n",
       "</div>"
      ],
      "text/plain": [
       "             0             1         2             3         4         5   \\\n",
       "0     -1.091549  1.653609e+00 -0.848858  2.426353e-01  0.029613 -1.186492   \n",
       "1      0.700838 -6.452241e-01 -0.193342 -1.122394e-01  1.123036  0.507703   \n",
       "2      0.253814  4.120875e+00 -0.918160  5.419162e-16 -0.628517  0.516303   \n",
       "3     -1.150008 -7.062698e-01 -0.891927 -6.560297e-01 -1.123558 -0.065798   \n",
       "4      1.536427 -8.275012e-01  0.704445 -6.434407e-01 -0.927922  0.786186   \n",
       "...         ...           ...       ...           ...       ...       ...   \n",
       "12913  1.125873 -1.057868e+00 -0.278391 -9.660097e-01 -0.584522 -0.768905   \n",
       "12914 -0.240943  7.362076e+00 -0.647702  6.900773e+00  1.075159  2.762928   \n",
       "12915 -0.439382 -6.533039e-01 -0.796812  1.099262e+00 -0.106997  1.210635   \n",
       "12916  0.942451 -3.347523e-16 -0.016395 -9.130097e-01 -0.702312 -0.690018   \n",
       "12917 -0.921535  4.008314e-01 -0.502723  1.455391e+00 -0.776085  0.188976   \n",
       "\n",
       "             6         7         10        11        12        13        14  \n",
       "0      0.796386  0.385235 -1.066611 -0.379469 -0.210351 -0.230168 -1.069832  \n",
       "1     -0.695177 -0.874038 -0.075723 -0.548551 -0.503033 -0.230168 -1.069832  \n",
       "2      1.293270  1.731160 -1.958203 -0.183907  0.911880 -0.230168 -1.242692  \n",
       "3      0.376658 -0.786347  0.018141 -0.446457 -1.343740 -0.230168  0.863517  \n",
       "4     -0.300530 -0.253791 -0.637898 -0.621303 -0.107925 -0.230168  0.863517  \n",
       "...         ...       ...       ...       ...       ...       ...       ...  \n",
       "12913 -0.026566 -0.914185 -0.083908 -0.966413 -0.932717 -0.230168 -1.069832  \n",
       "12914 -5.061174  0.588295  1.028131  2.901431  5.919321 -0.230168  0.863517  \n",
       "12915  1.548843 -0.249536  0.614199 -0.315719 -1.239332 -0.230168  0.863517  \n",
       "12916 -0.110922 -0.925295  0.022541 -0.921364 -0.612663 -0.230168  0.863517  \n",
       "12917  1.710642 -0.499343 -0.208190  0.383354  1.604354 -0.230168 -1.242692  \n",
       "\n",
       "[12918 rows x 13 columns]"
      ]
     },
     "execution_count": 263,
     "metadata": {},
     "output_type": "execute_result"
    }
   ],
   "source": [
    "X"
   ]
  },
  {
   "cell_type": "markdown",
   "metadata": {},
   "source": [
    "#### Prepare submission table"
   ]
  },
  {
   "cell_type": "code",
   "execution_count": 264,
   "metadata": {},
   "outputs": [
    {
     "data": {
      "text/html": [
       "<div>\n",
       "<style scoped>\n",
       "    .dataframe tbody tr th:only-of-type {\n",
       "        vertical-align: middle;\n",
       "    }\n",
       "\n",
       "    .dataframe tbody tr th {\n",
       "        vertical-align: top;\n",
       "    }\n",
       "\n",
       "    .dataframe thead th {\n",
       "        text-align: right;\n",
       "    }\n",
       "</style>\n",
       "<table border=\"1\" class=\"dataframe\">\n",
       "  <thead>\n",
       "    <tr style=\"text-align: right;\">\n",
       "      <th></th>\n",
       "      <th>0</th>\n",
       "      <th>1</th>\n",
       "      <th>2</th>\n",
       "      <th>3</th>\n",
       "      <th>4</th>\n",
       "      <th>5</th>\n",
       "      <th>6</th>\n",
       "      <th>7</th>\n",
       "      <th>10</th>\n",
       "      <th>11</th>\n",
       "      <th>12</th>\n",
       "      <th>13</th>\n",
       "      <th>14</th>\n",
       "    </tr>\n",
       "  </thead>\n",
       "  <tbody>\n",
       "    <tr>\n",
       "      <th>0</th>\n",
       "      <td>-1.731850</td>\n",
       "      <td>-0.697518</td>\n",
       "      <td>-0.167640</td>\n",
       "      <td>-0.171249</td>\n",
       "      <td>-0.581469</td>\n",
       "      <td>1.104820</td>\n",
       "      <td>-0.669287</td>\n",
       "      <td>1.503342</td>\n",
       "      <td>-1.793795</td>\n",
       "      <td>-0.479470</td>\n",
       "      <td>-0.608323</td>\n",
       "      <td>-0.220416</td>\n",
       "      <td>0.865000</td>\n",
       "    </tr>\n",
       "    <tr>\n",
       "      <th>1</th>\n",
       "      <td>-1.731448</td>\n",
       "      <td>-0.101973</td>\n",
       "      <td>-0.709532</td>\n",
       "      <td>-0.420356</td>\n",
       "      <td>-0.597844</td>\n",
       "      <td>-0.334230</td>\n",
       "      <td>0.588986</td>\n",
       "      <td>-0.383472</td>\n",
       "      <td>-0.390323</td>\n",
       "      <td>-0.459809</td>\n",
       "      <td>1.027090</td>\n",
       "      <td>-0.220416</td>\n",
       "      <td>-1.066805</td>\n",
       "    </tr>\n",
       "    <tr>\n",
       "      <th>2</th>\n",
       "      <td>-1.731045</td>\n",
       "      <td>-0.015674</td>\n",
       "      <td>0.507675</td>\n",
       "      <td>-0.531871</td>\n",
       "      <td>-1.549290</td>\n",
       "      <td>-0.161008</td>\n",
       "      <td>0.342660</td>\n",
       "      <td>0.958600</td>\n",
       "      <td>1.469627</td>\n",
       "      <td>-0.405695</td>\n",
       "      <td>0.496936</td>\n",
       "      <td>-0.220416</td>\n",
       "      <td>0.865000</td>\n",
       "    </tr>\n",
       "    <tr>\n",
       "      <th>3</th>\n",
       "      <td>-1.730643</td>\n",
       "      <td>-0.015674</td>\n",
       "      <td>0.379333</td>\n",
       "      <td>-0.936137</td>\n",
       "      <td>0.945176</td>\n",
       "      <td>0.296746</td>\n",
       "      <td>0.060789</td>\n",
       "      <td>-0.465485</td>\n",
       "      <td>0.532010</td>\n",
       "      <td>-1.017652</td>\n",
       "      <td>0.046123</td>\n",
       "      <td>-0.220416</td>\n",
       "      <td>0.865000</td>\n",
       "    </tr>\n",
       "    <tr>\n",
       "      <th>4</th>\n",
       "      <td>-1.730241</td>\n",
       "      <td>-0.015674</td>\n",
       "      <td>-0.810234</td>\n",
       "      <td>-0.021416</td>\n",
       "      <td>1.103679</td>\n",
       "      <td>-0.146732</td>\n",
       "      <td>0.950264</td>\n",
       "      <td>0.245515</td>\n",
       "      <td>-0.686853</td>\n",
       "      <td>0.779412</td>\n",
       "      <td>-0.311141</td>\n",
       "      <td>-0.220416</td>\n",
       "      <td>-1.066805</td>\n",
       "    </tr>\n",
       "    <tr>\n",
       "      <th>...</th>\n",
       "      <td>...</td>\n",
       "      <td>...</td>\n",
       "      <td>...</td>\n",
       "      <td>...</td>\n",
       "      <td>...</td>\n",
       "      <td>...</td>\n",
       "      <td>...</td>\n",
       "      <td>...</td>\n",
       "      <td>...</td>\n",
       "      <td>...</td>\n",
       "      <td>...</td>\n",
       "      <td>...</td>\n",
       "      <td>...</td>\n",
       "    </tr>\n",
       "    <tr>\n",
       "      <th>8608</th>\n",
       "      <td>1.730241</td>\n",
       "      <td>-0.015674</td>\n",
       "      <td>-0.357565</td>\n",
       "      <td>-0.021416</td>\n",
       "      <td>-0.534257</td>\n",
       "      <td>0.985329</td>\n",
       "      <td>1.716999</td>\n",
       "      <td>0.969255</td>\n",
       "      <td>1.468180</td>\n",
       "      <td>-0.749120</td>\n",
       "      <td>-1.004593</td>\n",
       "      <td>-0.220416</td>\n",
       "      <td>0.865000</td>\n",
       "    </tr>\n",
       "    <tr>\n",
       "      <th>8609</th>\n",
       "      <td>1.730643</td>\n",
       "      <td>-0.015674</td>\n",
       "      <td>-0.601903</td>\n",
       "      <td>-0.986972</td>\n",
       "      <td>-0.749949</td>\n",
       "      <td>0.027110</td>\n",
       "      <td>-0.137560</td>\n",
       "      <td>-0.266536</td>\n",
       "      <td>0.673678</td>\n",
       "      <td>-1.436104</td>\n",
       "      <td>-0.670692</td>\n",
       "      <td>-0.220416</td>\n",
       "      <td>-1.066805</td>\n",
       "    </tr>\n",
       "    <tr>\n",
       "      <th>8610</th>\n",
       "      <td>1.731045</td>\n",
       "      <td>-0.791700</td>\n",
       "      <td>-0.243027</td>\n",
       "      <td>-0.799202</td>\n",
       "      <td>0.461184</td>\n",
       "      <td>-1.167441</td>\n",
       "      <td>0.156743</td>\n",
       "      <td>-0.747276</td>\n",
       "      <td>0.219992</td>\n",
       "      <td>-0.321878</td>\n",
       "      <td>-0.832090</td>\n",
       "      <td>4.153875</td>\n",
       "      <td>-1.239528</td>\n",
       "    </tr>\n",
       "    <tr>\n",
       "      <th>8611</th>\n",
       "      <td>1.731448</td>\n",
       "      <td>-0.758430</td>\n",
       "      <td>-0.060072</td>\n",
       "      <td>-0.021416</td>\n",
       "      <td>-0.819223</td>\n",
       "      <td>0.919619</td>\n",
       "      <td>0.860172</td>\n",
       "      <td>-1.019972</td>\n",
       "      <td>0.058227</td>\n",
       "      <td>-0.839004</td>\n",
       "      <td>-0.564025</td>\n",
       "      <td>-0.220416</td>\n",
       "      <td>-1.066805</td>\n",
       "    </tr>\n",
       "    <tr>\n",
       "      <th>8612</th>\n",
       "      <td>1.731850</td>\n",
       "      <td>-0.015674</td>\n",
       "      <td>0.564797</td>\n",
       "      <td>-0.673384</td>\n",
       "      <td>-1.074629</td>\n",
       "      <td>-0.842514</td>\n",
       "      <td>0.275375</td>\n",
       "      <td>-0.172432</td>\n",
       "      <td>0.663591</td>\n",
       "      <td>0.016837</td>\n",
       "      <td>0.301635</td>\n",
       "      <td>-0.220416</td>\n",
       "      <td>-1.234497</td>\n",
       "    </tr>\n",
       "  </tbody>\n",
       "</table>\n",
       "<p>8613 rows × 13 columns</p>\n",
       "</div>"
      ],
      "text/plain": [
       "            0         1         2         3         4         5         6   \\\n",
       "0    -1.731850 -0.697518 -0.167640 -0.171249 -0.581469  1.104820 -0.669287   \n",
       "1    -1.731448 -0.101973 -0.709532 -0.420356 -0.597844 -0.334230  0.588986   \n",
       "2    -1.731045 -0.015674  0.507675 -0.531871 -1.549290 -0.161008  0.342660   \n",
       "3    -1.730643 -0.015674  0.379333 -0.936137  0.945176  0.296746  0.060789   \n",
       "4    -1.730241 -0.015674 -0.810234 -0.021416  1.103679 -0.146732  0.950264   \n",
       "...        ...       ...       ...       ...       ...       ...       ...   \n",
       "8608  1.730241 -0.015674 -0.357565 -0.021416 -0.534257  0.985329  1.716999   \n",
       "8609  1.730643 -0.015674 -0.601903 -0.986972 -0.749949  0.027110 -0.137560   \n",
       "8610  1.731045 -0.791700 -0.243027 -0.799202  0.461184 -1.167441  0.156743   \n",
       "8611  1.731448 -0.758430 -0.060072 -0.021416 -0.819223  0.919619  0.860172   \n",
       "8612  1.731850 -0.015674  0.564797 -0.673384 -1.074629 -0.842514  0.275375   \n",
       "\n",
       "            7         10        11        12        13        14  \n",
       "0     1.503342 -1.793795 -0.479470 -0.608323 -0.220416  0.865000  \n",
       "1    -0.383472 -0.390323 -0.459809  1.027090 -0.220416 -1.066805  \n",
       "2     0.958600  1.469627 -0.405695  0.496936 -0.220416  0.865000  \n",
       "3    -0.465485  0.532010 -1.017652  0.046123 -0.220416  0.865000  \n",
       "4     0.245515 -0.686853  0.779412 -0.311141 -0.220416 -1.066805  \n",
       "...        ...       ...       ...       ...       ...       ...  \n",
       "8608  0.969255  1.468180 -0.749120 -1.004593 -0.220416  0.865000  \n",
       "8609 -0.266536  0.673678 -1.436104 -0.670692 -0.220416 -1.066805  \n",
       "8610 -0.747276  0.219992 -0.321878 -0.832090  4.153875 -1.239528  \n",
       "8611 -1.019972  0.058227 -0.839004 -0.564025 -0.220416 -1.066805  \n",
       "8612 -0.172432  0.663591  0.016837  0.301635 -0.220416 -1.234497  \n",
       "\n",
       "[8613 rows x 13 columns]"
      ]
     },
     "execution_count": 264,
     "metadata": {},
     "output_type": "execute_result"
    }
   ],
   "source": [
    "df9 = df9.sort_values(by='id')\n",
    "df9\n",
    "\n",
    "scaler = StandardScaler().fit(df9)\n",
    "df9 = scaler.transform(df9)\n",
    "df9 = pd.DataFrame(df9)\n",
    "#corr_features = get_correlation(X, 0.70)\n",
    "df9 = df9.drop(labels = corr_features, axis = 1)\n",
    "df9"
   ]
  },
  {
   "cell_type": "markdown",
   "metadata": {},
   "source": [
    "## Create dataset for weak learners"
   ]
  },
  {
   "cell_type": "code",
   "execution_count": 265,
   "metadata": {},
   "outputs": [],
   "source": [
    "weak_leaner = pd.DataFrame()"
   ]
  },
  {
   "cell_type": "code",
   "execution_count": 266,
   "metadata": {},
   "outputs": [
    {
     "data": {
      "text/plain": [
       "(0, 0)"
      ]
     },
     "execution_count": 266,
     "metadata": {},
     "output_type": "execute_result"
    }
   ],
   "source": [
    "#weak_leaner['targetTRUE'] = df10['jets']\n",
    "#weak_leaner['ra'] = X_test['ra']\n",
    "weak_leaner.shape"
   ]
  },
  {
   "cell_type": "code",
   "execution_count": 267,
   "metadata": {},
   "outputs": [
    {
     "data": {
      "text/html": [
       "<div>\n",
       "<style scoped>\n",
       "    .dataframe tbody tr th:only-of-type {\n",
       "        vertical-align: middle;\n",
       "    }\n",
       "\n",
       "    .dataframe tbody tr th {\n",
       "        vertical-align: top;\n",
       "    }\n",
       "\n",
       "    .dataframe thead th {\n",
       "        text-align: right;\n",
       "    }\n",
       "</style>\n",
       "<table border=\"1\" class=\"dataframe\">\n",
       "  <thead>\n",
       "    <tr style=\"text-align: right;\">\n",
       "      <th></th>\n",
       "    </tr>\n",
       "  </thead>\n",
       "  <tbody>\n",
       "  </tbody>\n",
       "</table>\n",
       "</div>"
      ],
      "text/plain": [
       "Empty DataFrame\n",
       "Columns: []\n",
       "Index: []"
      ]
     },
     "execution_count": 267,
     "metadata": {},
     "output_type": "execute_result"
    }
   ],
   "source": [
    "weak_leaner.head()"
   ]
  },
  {
   "cell_type": "markdown",
   "metadata": {},
   "source": [
    "## Random forest "
   ]
  },
  {
   "cell_type": "code",
   "execution_count": 268,
   "metadata": {},
   "outputs": [
    {
     "name": "stdout",
     "output_type": "stream",
     "text": [
      "Fitting 2 folds for each of 5 candidates, totalling 10 fits\n"
     ]
    },
    {
     "data": {
      "text/plain": [
       "{'n_estimators': 500,\n",
       " 'min_samples_split': 10,\n",
       " 'min_samples_leaf': 1,\n",
       " 'max_features': 'sqrt',\n",
       " 'max_depth': 80}"
      ]
     },
     "execution_count": 268,
     "metadata": {},
     "output_type": "execute_result"
    }
   ],
   "source": [
    "from sklearn.ensemble import RandomForestClassifier\n",
    "from sklearn.model_selection import GridSearchCV\n",
    "from sklearn.model_selection import RandomizedSearchCV\n",
    "\n",
    "\n",
    "\n",
    "\n",
    "\n",
    "random_grid = {'n_estimators': [200,300,500,800,1300,1500],\n",
    "               'max_features': ['auto', 'sqrt'],\n",
    "               'max_depth': [10,30,50,80],\n",
    "               'min_samples_split': [2, 5, 10],\n",
    "               'min_samples_leaf': [1, 2, 4]}\n",
    "\n",
    "# Use the random grid to search for best hyperparameters\n",
    "# First create the base model to tune\n",
    "rf = RandomForestClassifier()\n",
    "# Random search of parameters, using 3 fold cross validation, \n",
    "# search across 100 different combinations, and use all available cores\n",
    "rf_random = RandomizedSearchCV(estimator = rf, param_distributions = random_grid, n_iter = 5, cv = 2, verbose=2, random_state=42, n_jobs = -1)\n",
    "# Fit the random search model\n",
    "rf_random.fit(X, y)\n",
    "rf_random.best_params_"
   ]
  },
  {
   "cell_type": "markdown",
   "metadata": {},
   "source": [
    "'n_estimators': 500,\n",
    " 'min_samples_split': 10,\n",
    " 'min_samples_leaf': 1,\n",
    " 'max_features': 'sqrt',\n",
    " 'max_depth': 80}"
   ]
  },
  {
   "cell_type": "code",
   "execution_count": 269,
   "metadata": {},
   "outputs": [
    {
     "name": "stdout",
     "output_type": "stream",
     "text": [
      "\n",
      "ACCURACY OF THE MODEL:  0.7538699690402477\n"
     ]
    }
   ],
   "source": [
    "# creating a RF classifier\n",
    "clf = RandomForestClassifier(n_estimators = 500,min_samples_split = 10,\n",
    " min_samples_leaf= 1,\n",
    " max_features = 'sqrt',\n",
    " max_depth = 80)  \n",
    "  \n",
    "# Training the model on the training dataset\n",
    "# fit function is used to train the model using the training sets as parameters\n",
    "clf.fit(X_train, y_train)\n",
    "  \n",
    "# performing predictions on the test dataset\n",
    "y_pred = clf.predict(X_test)\n",
    "  \n",
    "# metrics are used to find accuracy or error\n",
    "from sklearn import metrics  \n",
    "print()\n",
    "  \n",
    "# using metrics module for accuracy calculation\n",
    "print(\"ACCURACY OF THE MODEL: \", metrics.accuracy_score(y_test, y_pred))"
   ]
  },
  {
   "cell_type": "code",
   "execution_count": 270,
   "metadata": {},
   "outputs": [],
   "source": [
    "weak_leaner['targetrandomF'] = y_pred"
   ]
  },
  {
   "cell_type": "code",
   "execution_count": 271,
   "metadata": {},
   "outputs": [],
   "source": [
    "df1['jets'] = weak_leaner['targetrandomF']"
   ]
  },
  {
   "cell_type": "markdown",
   "metadata": {},
   "source": [
    "## Ridge regression"
   ]
  },
  {
   "cell_type": "code",
   "execution_count": 272,
   "metadata": {},
   "outputs": [],
   "source": [
    "from sklearn.linear_model import LogisticRegression"
   ]
  },
  {
   "cell_type": "code",
   "execution_count": 273,
   "metadata": {},
   "outputs": [
    {
     "name": "stdout",
     "output_type": "stream",
     "text": [
      "\n",
      "ACCURACY OF THE MODEL:  0.6617647058823529\n"
     ]
    }
   ],
   "source": [
    "clf = LogisticRegression(random_state=0).fit(X_train, y_train)\n",
    "y_pred = clf.predict(X_test)\n",
    "print()\n",
    "  \n",
    "# using metrics module for accuracy calculation\n",
    "print(\"ACCURACY OF THE MODEL: \", metrics.accuracy_score(y_test, y_pred))"
   ]
  },
  {
   "cell_type": "code",
   "execution_count": 274,
   "metadata": {},
   "outputs": [],
   "source": [
    "weak_leaner['targetridge'] = y_pred"
   ]
  },
  {
   "cell_type": "code",
   "execution_count": null,
   "metadata": {},
   "outputs": [],
   "source": []
  },
  {
   "cell_type": "markdown",
   "metadata": {},
   "source": [
    "## SVM "
   ]
  },
  {
   "cell_type": "code",
   "execution_count": 275,
   "metadata": {
    "lines_to_next_cell": 2
   },
   "outputs": [],
   "source": [
    "from sklearn import svm\n",
    "from sklearn.svm import SVC\n",
    "from sklearn.pipeline import make_pipeline\n",
    "from sklearn.preprocessing import StandardScaler"
   ]
  },
  {
   "cell_type": "markdown",
   "metadata": {},
   "source": [
    "param_grid = {'C': [0.1, 1, 10, 100], \n",
    "              'gamma': [0.1, 0.01, 0.001, 0.0001],\n",
    "              'kernel': ['rbf']} \n",
    "  \n",
    "grid = GridSearchCV(SVC(), param_grid, refit = True, cv = 3)\n",
    "  \n",
    "#### fitting the model for grid search\n",
    "grid.fit(X_train, y_train)\n",
    "grid.best_params_"
   ]
  },
  {
   "cell_type": "code",
   "execution_count": 276,
   "metadata": {},
   "outputs": [
    {
     "name": "stdout",
     "output_type": "stream",
     "text": [
      "\n",
      "ACCURACY OF THE MODEL:  0.7360681114551083\n"
     ]
    }
   ],
   "source": [
    "csvm = make_pipeline(StandardScaler(), SVC(gamma='auto'))\n",
    "csvm.fit(X_train, y_train)\n",
    "\n",
    "\n",
    "y_pred = csvm.predict(X_test)\n",
    "\n",
    "print()\n",
    "  \n",
    "# using metrics module for accuracy calculation\n",
    "print(\"ACCURACY OF THE MODEL: \", metrics.accuracy_score(y_test, y_pred))\n"
   ]
  },
  {
   "cell_type": "code",
   "execution_count": 277,
   "metadata": {},
   "outputs": [],
   "source": [
    "weak_leaner['targetsvm'] = y_pred"
   ]
  },
  {
   "cell_type": "code",
   "execution_count": 278,
   "metadata": {},
   "outputs": [],
   "source": [
    "df1['jets'] = weak_leaner['targetsvm']"
   ]
  },
  {
   "cell_type": "markdown",
   "metadata": {},
   "source": [
    "## Nearest neighbor"
   ]
  },
  {
   "cell_type": "code",
   "execution_count": 279,
   "metadata": {},
   "outputs": [
    {
     "name": "stdout",
     "output_type": "stream",
     "text": [
      "\n",
      "ACCURACY OF THE MODEL:  0.6110681114551083\n"
     ]
    }
   ],
   "source": [
    "from sklearn.neighbors import NearestCentroid\n",
    "neigh = NearestCentroid()\n",
    "neigh.fit(X_train, y_train)\n",
    "y_pred = neigh.predict(X_test)\n",
    "\n",
    "print()\n",
    "  \n",
    "# using metrics module for accuracy calculation\n",
    "print(\"ACCURACY OF THE MODEL: \", metrics.accuracy_score(y_test, y_pred))"
   ]
  },
  {
   "cell_type": "code",
   "execution_count": 280,
   "metadata": {},
   "outputs": [],
   "source": [
    "weak_leaner['targetneigh'] = y_pred"
   ]
  },
  {
   "cell_type": "code",
   "execution_count": null,
   "metadata": {},
   "outputs": [],
   "source": []
  },
  {
   "cell_type": "markdown",
   "metadata": {},
   "source": [
    "## PCA LDA "
   ]
  },
  {
   "cell_type": "code",
   "execution_count": 281,
   "metadata": {},
   "outputs": [],
   "source": [
    "from sklearn.decomposition import PCA\n",
    "from sklearn.discriminant_analysis import LinearDiscriminantAnalysis "
   ]
  },
  {
   "cell_type": "code",
   "execution_count": 282,
   "metadata": {},
   "outputs": [
    {
     "data": {
      "text/plain": [
       "13"
      ]
     },
     "execution_count": 282,
     "metadata": {},
     "output_type": "execute_result"
    }
   ],
   "source": [
    "X.columns.nunique()"
   ]
  },
  {
   "cell_type": "code",
   "execution_count": 283,
   "metadata": {},
   "outputs": [
    {
     "name": "stdout",
     "output_type": "stream",
     "text": [
      "[ 15.6  28.1  36.6  44.8  52.6  60.3  68.   75.5  83.   90.   94.8  98.6\n",
      " 100.2]\n"
     ]
    }
   ],
   "source": [
    "pca = PCA(n_components=13) #covariant Matrix\n",
    "x_pca = pca.fit_transform(X)\n",
    "df_pca =  pca.fit_transform(df9)\n",
    "variance = pca.explained_variance_ratio_ #calculate variance ratios\n",
    "var=np.cumsum(np.round(pca.explained_variance_ratio_, decimals=3)*100)\n",
    "print(var)"
   ]
  },
  {
   "cell_type": "code",
   "execution_count": 284,
   "metadata": {},
   "outputs": [],
   "source": [
    "x_pca = pd.DataFrame(x_pca)\n",
    "x_pca = x_pca.drop(labels = [0,1,2,3,4,5], axis = 1)\n"
   ]
  },
  {
   "cell_type": "code",
   "execution_count": 285,
   "metadata": {},
   "outputs": [],
   "source": [
    "df_pca  = pd.DataFrame(df_pca)\n",
    "df_pca = df_pca.drop(labels = [0,1,2,3,4,5], axis = 1)"
   ]
  },
  {
   "cell_type": "code",
   "execution_count": 286,
   "metadata": {},
   "outputs": [],
   "source": [
    "#train test\n",
    "X_train, X_test, y_train, y_test = train_test_split(\n",
    "   x_pca, y, test_size=0.20, random_state=42)"
   ]
  },
  {
   "cell_type": "code",
   "execution_count": 287,
   "metadata": {},
   "outputs": [
    {
     "data": {
      "text/plain": [
       "LinearDiscriminantAnalysis()"
      ]
     },
     "execution_count": 287,
     "metadata": {},
     "output_type": "execute_result"
    }
   ],
   "source": [
    "model = LinearDiscriminantAnalysis()\n",
    "model.fit(X_train, y_train)"
   ]
  },
  {
   "cell_type": "code",
   "execution_count": 288,
   "metadata": {},
   "outputs": [
    {
     "name": "stdout",
     "output_type": "stream",
     "text": [
      "ACCURACY OF THE MODEL:  0.6408668730650154\n"
     ]
    }
   ],
   "source": [
    "y_pred = model.predict(X_test)\n",
    "print(\"ACCURACY OF THE MODEL: \", metrics.accuracy_score(y_test, y_pred))\n",
    "#weak_leaner['targetlda'] = y_pred"
   ]
  },
  {
   "cell_type": "markdown",
   "metadata": {},
   "source": [
    "## Strong learners"
   ]
  },
  {
   "cell_type": "code",
   "execution_count": 289,
   "metadata": {},
   "outputs": [
    {
     "data": {
      "text/html": [
       "<div>\n",
       "<style scoped>\n",
       "    .dataframe tbody tr th:only-of-type {\n",
       "        vertical-align: middle;\n",
       "    }\n",
       "\n",
       "    .dataframe tbody tr th {\n",
       "        vertical-align: top;\n",
       "    }\n",
       "\n",
       "    .dataframe thead th {\n",
       "        text-align: right;\n",
       "    }\n",
       "</style>\n",
       "<table border=\"1\" class=\"dataframe\">\n",
       "  <thead>\n",
       "    <tr style=\"text-align: right;\">\n",
       "      <th></th>\n",
       "      <th>targetrandomF</th>\n",
       "      <th>targetridge</th>\n",
       "      <th>targetsvm</th>\n",
       "      <th>targetneigh</th>\n",
       "    </tr>\n",
       "  </thead>\n",
       "  <tbody>\n",
       "    <tr>\n",
       "      <th>0</th>\n",
       "      <td>bijet</td>\n",
       "      <td>bijet</td>\n",
       "      <td>bijet</td>\n",
       "      <td>tetrajet</td>\n",
       "    </tr>\n",
       "    <tr>\n",
       "      <th>1</th>\n",
       "      <td>trijet</td>\n",
       "      <td>trijet</td>\n",
       "      <td>trijet</td>\n",
       "      <td>tetrajet</td>\n",
       "    </tr>\n",
       "    <tr>\n",
       "      <th>2</th>\n",
       "      <td>trijet</td>\n",
       "      <td>trijet</td>\n",
       "      <td>trijet</td>\n",
       "      <td>tetrajet</td>\n",
       "    </tr>\n",
       "    <tr>\n",
       "      <th>3</th>\n",
       "      <td>bijet</td>\n",
       "      <td>bijet</td>\n",
       "      <td>bijet</td>\n",
       "      <td>bijet</td>\n",
       "    </tr>\n",
       "    <tr>\n",
       "      <th>4</th>\n",
       "      <td>bijet</td>\n",
       "      <td>bijet</td>\n",
       "      <td>bijet</td>\n",
       "      <td>trijet</td>\n",
       "    </tr>\n",
       "  </tbody>\n",
       "</table>\n",
       "</div>"
      ],
      "text/plain": [
       "  targetrandomF targetridge targetsvm targetneigh\n",
       "0         bijet       bijet     bijet    tetrajet\n",
       "1        trijet      trijet    trijet    tetrajet\n",
       "2        trijet      trijet    trijet    tetrajet\n",
       "3         bijet       bijet     bijet       bijet\n",
       "4         bijet       bijet     bijet      trijet"
      ]
     },
     "execution_count": 289,
     "metadata": {},
     "output_type": "execute_result"
    }
   ],
   "source": [
    "#data \n",
    "weak_leaner.head()"
   ]
  },
  {
   "cell_type": "code",
   "execution_count": 290,
   "metadata": {},
   "outputs": [],
   "source": [
    "weak_leaner = pd.get_dummies(weak_leaner, columns=['targetrandomF','targetridge',\n",
    "                                                   'targetneigh','targetsvm'], prefix = ['random_','ridge_','neigh_','svm_']\n",
    "                             ,drop_first=True)\n"
   ]
  },
  {
   "cell_type": "code",
   "execution_count": 291,
   "metadata": {},
   "outputs": [
    {
     "data": {
      "text/html": [
       "<div>\n",
       "<style scoped>\n",
       "    .dataframe tbody tr th:only-of-type {\n",
       "        vertical-align: middle;\n",
       "    }\n",
       "\n",
       "    .dataframe tbody tr th {\n",
       "        vertical-align: top;\n",
       "    }\n",
       "\n",
       "    .dataframe thead th {\n",
       "        text-align: right;\n",
       "    }\n",
       "</style>\n",
       "<table border=\"1\" class=\"dataframe\">\n",
       "  <thead>\n",
       "    <tr style=\"text-align: right;\">\n",
       "      <th></th>\n",
       "      <th>random__tetrajet</th>\n",
       "      <th>random__trijet</th>\n",
       "      <th>ridge__tetrajet</th>\n",
       "      <th>ridge__trijet</th>\n",
       "      <th>neigh__tetrajet</th>\n",
       "      <th>neigh__trijet</th>\n",
       "      <th>svm__tetrajet</th>\n",
       "      <th>svm__trijet</th>\n",
       "    </tr>\n",
       "  </thead>\n",
       "  <tbody>\n",
       "    <tr>\n",
       "      <th>0</th>\n",
       "      <td>0</td>\n",
       "      <td>0</td>\n",
       "      <td>0</td>\n",
       "      <td>0</td>\n",
       "      <td>1</td>\n",
       "      <td>0</td>\n",
       "      <td>0</td>\n",
       "      <td>0</td>\n",
       "    </tr>\n",
       "    <tr>\n",
       "      <th>1</th>\n",
       "      <td>0</td>\n",
       "      <td>1</td>\n",
       "      <td>0</td>\n",
       "      <td>1</td>\n",
       "      <td>1</td>\n",
       "      <td>0</td>\n",
       "      <td>0</td>\n",
       "      <td>1</td>\n",
       "    </tr>\n",
       "    <tr>\n",
       "      <th>2</th>\n",
       "      <td>0</td>\n",
       "      <td>1</td>\n",
       "      <td>0</td>\n",
       "      <td>1</td>\n",
       "      <td>1</td>\n",
       "      <td>0</td>\n",
       "      <td>0</td>\n",
       "      <td>1</td>\n",
       "    </tr>\n",
       "    <tr>\n",
       "      <th>3</th>\n",
       "      <td>0</td>\n",
       "      <td>0</td>\n",
       "      <td>0</td>\n",
       "      <td>0</td>\n",
       "      <td>0</td>\n",
       "      <td>0</td>\n",
       "      <td>0</td>\n",
       "      <td>0</td>\n",
       "    </tr>\n",
       "    <tr>\n",
       "      <th>4</th>\n",
       "      <td>0</td>\n",
       "      <td>0</td>\n",
       "      <td>0</td>\n",
       "      <td>0</td>\n",
       "      <td>0</td>\n",
       "      <td>1</td>\n",
       "      <td>0</td>\n",
       "      <td>0</td>\n",
       "    </tr>\n",
       "    <tr>\n",
       "      <th>...</th>\n",
       "      <td>...</td>\n",
       "      <td>...</td>\n",
       "      <td>...</td>\n",
       "      <td>...</td>\n",
       "      <td>...</td>\n",
       "      <td>...</td>\n",
       "      <td>...</td>\n",
       "      <td>...</td>\n",
       "    </tr>\n",
       "    <tr>\n",
       "      <th>2579</th>\n",
       "      <td>0</td>\n",
       "      <td>0</td>\n",
       "      <td>0</td>\n",
       "      <td>0</td>\n",
       "      <td>0</td>\n",
       "      <td>0</td>\n",
       "      <td>0</td>\n",
       "      <td>0</td>\n",
       "    </tr>\n",
       "    <tr>\n",
       "      <th>2580</th>\n",
       "      <td>0</td>\n",
       "      <td>1</td>\n",
       "      <td>0</td>\n",
       "      <td>0</td>\n",
       "      <td>0</td>\n",
       "      <td>0</td>\n",
       "      <td>0</td>\n",
       "      <td>1</td>\n",
       "    </tr>\n",
       "    <tr>\n",
       "      <th>2581</th>\n",
       "      <td>0</td>\n",
       "      <td>1</td>\n",
       "      <td>0</td>\n",
       "      <td>1</td>\n",
       "      <td>1</td>\n",
       "      <td>0</td>\n",
       "      <td>0</td>\n",
       "      <td>1</td>\n",
       "    </tr>\n",
       "    <tr>\n",
       "      <th>2582</th>\n",
       "      <td>0</td>\n",
       "      <td>1</td>\n",
       "      <td>0</td>\n",
       "      <td>0</td>\n",
       "      <td>0</td>\n",
       "      <td>1</td>\n",
       "      <td>0</td>\n",
       "      <td>1</td>\n",
       "    </tr>\n",
       "    <tr>\n",
       "      <th>2583</th>\n",
       "      <td>0</td>\n",
       "      <td>0</td>\n",
       "      <td>0</td>\n",
       "      <td>0</td>\n",
       "      <td>0</td>\n",
       "      <td>0</td>\n",
       "      <td>0</td>\n",
       "      <td>0</td>\n",
       "    </tr>\n",
       "  </tbody>\n",
       "</table>\n",
       "<p>2584 rows × 8 columns</p>\n",
       "</div>"
      ],
      "text/plain": [
       "      random__tetrajet  random__trijet  ridge__tetrajet  ridge__trijet  \\\n",
       "0                    0               0                0              0   \n",
       "1                    0               1                0              1   \n",
       "2                    0               1                0              1   \n",
       "3                    0               0                0              0   \n",
       "4                    0               0                0              0   \n",
       "...                ...             ...              ...            ...   \n",
       "2579                 0               0                0              0   \n",
       "2580                 0               1                0              0   \n",
       "2581                 0               1                0              1   \n",
       "2582                 0               1                0              0   \n",
       "2583                 0               0                0              0   \n",
       "\n",
       "      neigh__tetrajet  neigh__trijet  svm__tetrajet  svm__trijet  \n",
       "0                   1              0              0            0  \n",
       "1                   1              0              0            1  \n",
       "2                   1              0              0            1  \n",
       "3                   0              0              0            0  \n",
       "4                   0              1              0            0  \n",
       "...               ...            ...            ...          ...  \n",
       "2579                0              0              0            0  \n",
       "2580                0              0              0            1  \n",
       "2581                1              0              0            1  \n",
       "2582                0              1              0            1  \n",
       "2583                0              0              0            0  \n",
       "\n",
       "[2584 rows x 8 columns]"
      ]
     },
     "execution_count": 291,
     "metadata": {},
     "output_type": "execute_result"
    }
   ],
   "source": [
    "weak_leaner"
   ]
  },
  {
   "cell_type": "code",
   "execution_count": 292,
   "metadata": {},
   "outputs": [
    {
     "ename": "KeyError",
     "evalue": "'targetTRUE'",
     "output_type": "error",
     "traceback": [
      "\u001b[1;31m---------------------------------------------------------------------------\u001b[0m",
      "\u001b[1;31mKeyError\u001b[0m                                  Traceback (most recent call last)",
      "\u001b[1;32m~\\Documents\\Python\\Anaconda\\lib\\site-packages\\pandas\\core\\indexes\\base.py\u001b[0m in \u001b[0;36mget_loc\u001b[1;34m(self, key, method, tolerance)\u001b[0m\n\u001b[0;32m   3079\u001b[0m             \u001b[1;32mtry\u001b[0m\u001b[1;33m:\u001b[0m\u001b[1;33m\u001b[0m\u001b[1;33m\u001b[0m\u001b[0m\n\u001b[1;32m-> 3080\u001b[1;33m                 \u001b[1;32mreturn\u001b[0m \u001b[0mself\u001b[0m\u001b[1;33m.\u001b[0m\u001b[0m_engine\u001b[0m\u001b[1;33m.\u001b[0m\u001b[0mget_loc\u001b[0m\u001b[1;33m(\u001b[0m\u001b[0mcasted_key\u001b[0m\u001b[1;33m)\u001b[0m\u001b[1;33m\u001b[0m\u001b[1;33m\u001b[0m\u001b[0m\n\u001b[0m\u001b[0;32m   3081\u001b[0m             \u001b[1;32mexcept\u001b[0m \u001b[0mKeyError\u001b[0m \u001b[1;32mas\u001b[0m \u001b[0merr\u001b[0m\u001b[1;33m:\u001b[0m\u001b[1;33m\u001b[0m\u001b[1;33m\u001b[0m\u001b[0m\n",
      "\u001b[1;32mpandas\\_libs\\index.pyx\u001b[0m in \u001b[0;36mpandas._libs.index.IndexEngine.get_loc\u001b[1;34m()\u001b[0m\n",
      "\u001b[1;32mpandas\\_libs\\index.pyx\u001b[0m in \u001b[0;36mpandas._libs.index.IndexEngine.get_loc\u001b[1;34m()\u001b[0m\n",
      "\u001b[1;32mpandas\\_libs\\hashtable_class_helper.pxi\u001b[0m in \u001b[0;36mpandas._libs.hashtable.PyObjectHashTable.get_item\u001b[1;34m()\u001b[0m\n",
      "\u001b[1;32mpandas\\_libs\\hashtable_class_helper.pxi\u001b[0m in \u001b[0;36mpandas._libs.hashtable.PyObjectHashTable.get_item\u001b[1;34m()\u001b[0m\n",
      "\u001b[1;31mKeyError\u001b[0m: 'targetTRUE'",
      "\nThe above exception was the direct cause of the following exception:\n",
      "\u001b[1;31mKeyError\u001b[0m                                  Traceback (most recent call last)",
      "\u001b[1;32m<ipython-input-292-4edb3d062cab>\u001b[0m in \u001b[0;36m<module>\u001b[1;34m\u001b[0m\n\u001b[1;32m----> 1\u001b[1;33m \u001b[0my\u001b[0m \u001b[1;33m=\u001b[0m \u001b[0mweak_leaner\u001b[0m\u001b[1;33m[\u001b[0m\u001b[1;34m\"targetTRUE\"\u001b[0m\u001b[1;33m]\u001b[0m\u001b[1;33m\u001b[0m\u001b[1;33m\u001b[0m\u001b[0m\n\u001b[0m\u001b[0;32m      2\u001b[0m \u001b[0mX\u001b[0m \u001b[1;33m=\u001b[0m \u001b[0mweak_leaner\u001b[0m\u001b[1;33m.\u001b[0m\u001b[0mloc\u001b[0m\u001b[1;33m[\u001b[0m\u001b[1;33m:\u001b[0m\u001b[1;33m,\u001b[0m\u001b[0mweak_leaner\u001b[0m\u001b[1;33m.\u001b[0m\u001b[0mcolumns\u001b[0m \u001b[1;33m!=\u001b[0m \u001b[1;34m\"targetTRUE\"\u001b[0m\u001b[1;33m]\u001b[0m\u001b[1;33m\u001b[0m\u001b[1;33m\u001b[0m\u001b[0m\n",
      "\u001b[1;32m~\\Documents\\Python\\Anaconda\\lib\\site-packages\\pandas\\core\\frame.py\u001b[0m in \u001b[0;36m__getitem__\u001b[1;34m(self, key)\u001b[0m\n\u001b[0;32m   3022\u001b[0m             \u001b[1;32mif\u001b[0m \u001b[0mself\u001b[0m\u001b[1;33m.\u001b[0m\u001b[0mcolumns\u001b[0m\u001b[1;33m.\u001b[0m\u001b[0mnlevels\u001b[0m \u001b[1;33m>\u001b[0m \u001b[1;36m1\u001b[0m\u001b[1;33m:\u001b[0m\u001b[1;33m\u001b[0m\u001b[1;33m\u001b[0m\u001b[0m\n\u001b[0;32m   3023\u001b[0m                 \u001b[1;32mreturn\u001b[0m \u001b[0mself\u001b[0m\u001b[1;33m.\u001b[0m\u001b[0m_getitem_multilevel\u001b[0m\u001b[1;33m(\u001b[0m\u001b[0mkey\u001b[0m\u001b[1;33m)\u001b[0m\u001b[1;33m\u001b[0m\u001b[1;33m\u001b[0m\u001b[0m\n\u001b[1;32m-> 3024\u001b[1;33m             \u001b[0mindexer\u001b[0m \u001b[1;33m=\u001b[0m \u001b[0mself\u001b[0m\u001b[1;33m.\u001b[0m\u001b[0mcolumns\u001b[0m\u001b[1;33m.\u001b[0m\u001b[0mget_loc\u001b[0m\u001b[1;33m(\u001b[0m\u001b[0mkey\u001b[0m\u001b[1;33m)\u001b[0m\u001b[1;33m\u001b[0m\u001b[1;33m\u001b[0m\u001b[0m\n\u001b[0m\u001b[0;32m   3025\u001b[0m             \u001b[1;32mif\u001b[0m \u001b[0mis_integer\u001b[0m\u001b[1;33m(\u001b[0m\u001b[0mindexer\u001b[0m\u001b[1;33m)\u001b[0m\u001b[1;33m:\u001b[0m\u001b[1;33m\u001b[0m\u001b[1;33m\u001b[0m\u001b[0m\n\u001b[0;32m   3026\u001b[0m                 \u001b[0mindexer\u001b[0m \u001b[1;33m=\u001b[0m \u001b[1;33m[\u001b[0m\u001b[0mindexer\u001b[0m\u001b[1;33m]\u001b[0m\u001b[1;33m\u001b[0m\u001b[1;33m\u001b[0m\u001b[0m\n",
      "\u001b[1;32m~\\Documents\\Python\\Anaconda\\lib\\site-packages\\pandas\\core\\indexes\\base.py\u001b[0m in \u001b[0;36mget_loc\u001b[1;34m(self, key, method, tolerance)\u001b[0m\n\u001b[0;32m   3080\u001b[0m                 \u001b[1;32mreturn\u001b[0m \u001b[0mself\u001b[0m\u001b[1;33m.\u001b[0m\u001b[0m_engine\u001b[0m\u001b[1;33m.\u001b[0m\u001b[0mget_loc\u001b[0m\u001b[1;33m(\u001b[0m\u001b[0mcasted_key\u001b[0m\u001b[1;33m)\u001b[0m\u001b[1;33m\u001b[0m\u001b[1;33m\u001b[0m\u001b[0m\n\u001b[0;32m   3081\u001b[0m             \u001b[1;32mexcept\u001b[0m \u001b[0mKeyError\u001b[0m \u001b[1;32mas\u001b[0m \u001b[0merr\u001b[0m\u001b[1;33m:\u001b[0m\u001b[1;33m\u001b[0m\u001b[1;33m\u001b[0m\u001b[0m\n\u001b[1;32m-> 3082\u001b[1;33m                 \u001b[1;32mraise\u001b[0m \u001b[0mKeyError\u001b[0m\u001b[1;33m(\u001b[0m\u001b[0mkey\u001b[0m\u001b[1;33m)\u001b[0m \u001b[1;32mfrom\u001b[0m \u001b[0merr\u001b[0m\u001b[1;33m\u001b[0m\u001b[1;33m\u001b[0m\u001b[0m\n\u001b[0m\u001b[0;32m   3083\u001b[0m \u001b[1;33m\u001b[0m\u001b[0m\n\u001b[0;32m   3084\u001b[0m         \u001b[1;32mif\u001b[0m \u001b[0mtolerance\u001b[0m \u001b[1;32mis\u001b[0m \u001b[1;32mnot\u001b[0m \u001b[1;32mNone\u001b[0m\u001b[1;33m:\u001b[0m\u001b[1;33m\u001b[0m\u001b[1;33m\u001b[0m\u001b[0m\n",
      "\u001b[1;31mKeyError\u001b[0m: 'targetTRUE'"
     ]
    }
   ],
   "source": [
    "y = weak_leaner[\"targetTRUE\"]\n",
    "X = weak_leaner.loc[:,weak_leaner.columns != \"targetTRUE\"]"
   ]
  },
  {
   "cell_type": "code",
   "execution_count": null,
   "metadata": {},
   "outputs": [],
   "source": [
    "#train test\n",
    "X_train, X_test, y_train, y_test = train_test_split(\n",
    "   X, y, test_size=0.40, random_state=42)"
   ]
  },
  {
   "cell_type": "markdown",
   "metadata": {},
   "source": [
    "## AdaBoost"
   ]
  },
  {
   "cell_type": "code",
   "execution_count": null,
   "metadata": {},
   "outputs": [],
   "source": [
    "from sklearn.tree import DecisionTreeClassifier\n",
    "from sklearn.ensemble import GradientBoostingClassifier"
   ]
  },
  {
   "cell_type": "code",
   "execution_count": null,
   "metadata": {},
   "outputs": [],
   "source": [
    "boost = GradientBoostingClassifier(n_estimators=500, learning_rate=0.5,max_depth=50, random_state=0).fit(X_train, y_train)"
   ]
  },
  {
   "cell_type": "code",
   "execution_count": null,
   "metadata": {},
   "outputs": [],
   "source": [
    "y_pred = boost.predict(X_test)\n",
    "\n",
    "print()\n",
    "  \n",
    "# using metrics module for accuracy calculation\n",
    "print(\"ACCURACY OF THE MODEL: \", metrics.accuracy_score(y_test, y_pred))"
   ]
  },
  {
   "cell_type": "code",
   "execution_count": null,
   "metadata": {},
   "outputs": [],
   "source": []
  },
  {
   "cell_type": "markdown",
   "metadata": {},
   "source": [
    "## Neural network"
   ]
  },
  {
   "cell_type": "code",
   "execution_count": null,
   "metadata": {},
   "outputs": [],
   "source": [
    "from sklearn.neural_network import MLPClassifier\n",
    "\n",
    "nn = MLPClassifier(solver='lbfgs', alpha=1e-5,\n",
    "                  hidden_layer_sizes=(5, 2), random_state=1, max_iter=150)\n",
    "nn.fit(X_train, y_train)\n",
    "\n",
    "y_pred = nn.predict(X_test)\n",
    "\n",
    "print()\n",
    "  \n",
    "# using metrics module for accuracy calculation\n",
    "print(\"ACCURACY OF THE MODEL: \", metrics.accuracy_score(y_test, y_pred))"
   ]
  },
  {
   "cell_type": "code",
   "execution_count": null,
   "metadata": {},
   "outputs": [],
   "source": [
    "weak_leaner['targetnn'] = y_pred\n",
    "df1['jets'] = weak_leaner['targetnn']"
   ]
  },
  {
   "cell_type": "markdown",
   "metadata": {},
   "source": [
    "# Submit"
   ]
  },
  {
   "cell_type": "code",
   "execution_count": null,
   "metadata": {},
   "outputs": [],
   "source": [
    "df1.to_csv('submit7.csv',index=False,header = True)"
   ]
  },
  {
   "cell_type": "code",
   "execution_count": null,
   "metadata": {},
   "outputs": [],
   "source": []
  }
 ],
 "metadata": {
  "jupytext": {
   "formats": "ipynb,md"
  },
  "kernelspec": {
   "display_name": "Python 3",
   "language": "python",
   "name": "python3"
  },
  "language_info": {
   "codemirror_mode": {
    "name": "ipython",
    "version": 3
   },
   "file_extension": ".py",
   "mimetype": "text/x-python",
   "name": "python",
   "nbconvert_exporter": "python",
   "pygments_lexer": "ipython3",
   "version": "3.7.6"
  }
 },
 "nbformat": 4,
 "nbformat_minor": 4
}
